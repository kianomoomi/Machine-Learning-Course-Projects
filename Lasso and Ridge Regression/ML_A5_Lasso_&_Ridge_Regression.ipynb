{
  "cells": [
    {
      "attachments": {},
      "cell_type": "markdown",
      "metadata": {
        "id": "b07eb33c"
      },
      "source": [
        "<div>\n",
        "<img src='http://www-scf.usc.edu/~ghasemig/images/sharif.png' alt=\"SUT logo\" width=220 height=220 align=left class=\"saturate\">\n",
        "\n",
        "<br>\n",
        "<font face=\"Times New Roman\">\n",
        "<div dir=ltr align=center> \n",
        "<!-- <font color=0F5298 size=7> -->\n",
        "<font color=0F5298 size=6>\n",
        "    Introduction to Machine Learning <br> <br>\n",
        "<!-- <font color=2565AE size=5> -->\n",
        "<font size=5>\n",
        "    Computer Engineering Department <br>\n",
        "    Spring 2023 <br> <br>\n",
        "<font color=606060 size=5>\n",
        "    Homework 5: Practical - Lasso & Ridge Regression <br> <br>\n",
        "<font color=686880 size=4>\n",
        "    TAs: Alireza Dehghanpour - Arman Malekzadeh - Ali Salesi\n",
        "    \n",
        "____"
      ]
    },
    {
      "attachments": {},
      "cell_type": "markdown",
      "metadata": {
        "id": "f5a79508"
      },
      "source": [
        "### Full Name : Kian Omoomi\n",
        "### Student Number : 98110062\n",
        "### Colab Link:\n",
        "___"
      ]
    },
    {
      "attachments": {},
      "cell_type": "markdown",
      "metadata": {
        "id": "5sy39_vXU_PO"
      },
      "source": [
        "The Global Health Observatory (GHO) data repository under World Health Organization (WHO) keeps track of the health status as well as many other related factors for all countries. The datasets are made available to public for the purpose of health data analysis. The dataset related to life expectancy, health factors for 193 countries has been collected from the same WHO data repository website and its corresponding economic data was collected from United Nation website. Among all categories of health-related factors only those critical factors were chosen which are more representative.\n",
        "\n",
        "In this assignment you have to predict **life expectancy**."
      ]
    },
    {
      "cell_type": "code",
      "execution_count": 39,
      "metadata": {
        "execution": {
          "iopub.execute_input": "2023-04-30T08:33:27.082868Z",
          "iopub.status.busy": "2023-04-30T08:33:27.082403Z",
          "iopub.status.idle": "2023-04-30T08:33:27.089987Z",
          "shell.execute_reply": "2023-04-30T08:33:27.088672Z",
          "shell.execute_reply.started": "2023-04-30T08:33:27.082829Z"
        },
        "id": "bBUrdXrVU_PO",
        "trusted": true
      },
      "outputs": [],
      "source": [
        "import numpy as np\n",
        "import pandas as pd\n",
        "from sklearn.model_selection import train_test_split\n",
        "from sklearn import linear_model\n",
        "from sklearn.metrics import mean_squared_error\n",
        "from sklearn.linear_model import Ridge, Lasso\n",
        "from sklearn.model_selection import GridSearchCV\n",
        "from sklearn import preprocessing\n",
        "from sklearn.metrics import r2_score\n"
      ]
    },
    {
      "attachments": {},
      "cell_type": "markdown",
      "metadata": {
        "id": "5sEpKmvvU_PP"
      },
      "source": [
        "# Data Exploration (20 points)"
      ]
    },
    {
      "cell_type": "code",
      "execution_count": 7,
      "metadata": {
        "id": "GJCBJo5XjWUq"
      },
      "outputs": [
        {
          "name": "stderr",
          "output_type": "stream",
          "text": [
            "--2023-05-09 16:14:58--  https://www.dropbox.com/s/2kz21qjt40pjy43/train.csv?dl=1\n",
            "Resolving www.dropbox.com (www.dropbox.com)... 162.125.66.18\n",
            "Connecting to www.dropbox.com (www.dropbox.com)|162.125.66.18|:443... connected.\n",
            "HTTP request sent, awaiting response... 302 Found\n",
            "Location: /s/dl/2kz21qjt40pjy43/train.csv [following]\n",
            "--2023-05-09 16:14:59--  https://www.dropbox.com/s/dl/2kz21qjt40pjy43/train.csv\n",
            "Reusing existing connection to www.dropbox.com:443.\n",
            "HTTP request sent, awaiting response... 302 Found\n",
            "Location: https://ucd9928433b19476ea28fd1b7ce2.dl.dropboxusercontent.com/cd/0/get/B7sI7OXXldJaHXDpIF2YJIvQ-82NA7Q1xEC1un1HEU0izRO_FhPb6aIcJgJCplp9hBSkPRWdCQBzlQr2QVtMQnHKDDuMy0eJI9OQm7xKgx_l0NKPmI1q15oNxE6Ht4Lw6gv4YKatQqbDcfxHwS5VAhgT-WwkhCiGNUDLtk0iGtOkfKSNFRlPmwMZfv55yo9goOw/file?dl=1# [following]\n",
            "--2023-05-09 16:15:00--  https://ucd9928433b19476ea28fd1b7ce2.dl.dropboxusercontent.com/cd/0/get/B7sI7OXXldJaHXDpIF2YJIvQ-82NA7Q1xEC1un1HEU0izRO_FhPb6aIcJgJCplp9hBSkPRWdCQBzlQr2QVtMQnHKDDuMy0eJI9OQm7xKgx_l0NKPmI1q15oNxE6Ht4Lw6gv4YKatQqbDcfxHwS5VAhgT-WwkhCiGNUDLtk0iGtOkfKSNFRlPmwMZfv55yo9goOw/file?dl=1\n",
            "Resolving ucd9928433b19476ea28fd1b7ce2.dl.dropboxusercontent.com (ucd9928433b19476ea28fd1b7ce2.dl.dropboxusercontent.com)... 162.125.66.15\n",
            "Connecting to ucd9928433b19476ea28fd1b7ce2.dl.dropboxusercontent.com (ucd9928433b19476ea28fd1b7ce2.dl.dropboxusercontent.com)|162.125.66.15|:443... connected.\n",
            "HTTP request sent, awaiting response... 200 OK\n",
            "Length: 308420 (301K) [application/binary]\n",
            "Saving to: './dataset.csv'\n",
            "\n",
            "     0K .......... .......... .......... .......... .......... 16%  355K 1s\n",
            "    50K .......... .......... .......... .......... .......... 33%  811K 0s\n",
            "   100K .......... .......... .......... .......... .......... 49% 1.23M 0s\n",
            "   150K .......... .......... .......... .......... .......... 66% 1.69M 0s\n",
            "   200K .......... .......... .......... .......... .......... 83% 1.86M 0s\n",
            "   250K .......... .......... .......... .......... .......... 99% 1.58M 0s\n",
            "   300K .                                                     100% 22.7G=0.3s\n",
            "\n",
            "2023-05-09 16:15:01 (918 KB/s) - './dataset.csv' saved [308420/308420]\n",
            "\n"
          ]
        }
      ],
      "source": [
        "!wget -O ./dataset.csv \"https://www.dropbox.com/s/2kz21qjt40pjy43/train.csv?dl=1\""
      ]
    },
    {
      "attachments": {},
      "cell_type": "markdown",
      "metadata": {
        "id": "XU9i17XgU_PP"
      },
      "source": [
        "Load the dataset as a dataframe"
      ]
    },
    {
      "cell_type": "code",
      "execution_count": 108,
      "metadata": {
        "execution": {
          "iopub.execute_input": "2023-04-30T08:33:30.197642Z",
          "iopub.status.busy": "2023-04-30T08:33:30.197254Z",
          "iopub.status.idle": "2023-04-30T08:33:30.238114Z",
          "shell.execute_reply": "2023-04-30T08:33:30.236875Z",
          "shell.execute_reply.started": "2023-04-30T08:33:30.197608Z"
        },
        "id": "GARdmLGkU_PQ",
        "trusted": true
      },
      "outputs": [
        {
          "data": {
            "text/html": [
              "<div>\n",
              "<style scoped>\n",
              "    .dataframe tbody tr th:only-of-type {\n",
              "        vertical-align: middle;\n",
              "    }\n",
              "\n",
              "    .dataframe tbody tr th {\n",
              "        vertical-align: top;\n",
              "    }\n",
              "\n",
              "    .dataframe thead th {\n",
              "        text-align: right;\n",
              "    }\n",
              "</style>\n",
              "<table border=\"1\" class=\"dataframe\">\n",
              "  <thead>\n",
              "    <tr style=\"text-align: right;\">\n",
              "      <th></th>\n",
              "      <th>Country</th>\n",
              "      <th>Year</th>\n",
              "      <th>Status</th>\n",
              "      <th>Life expectancy</th>\n",
              "      <th>Adult Mortality</th>\n",
              "      <th>infant deaths</th>\n",
              "      <th>Alcohol</th>\n",
              "      <th>percentage expenditure</th>\n",
              "      <th>Hepatitis B</th>\n",
              "      <th>Measles</th>\n",
              "      <th>...</th>\n",
              "      <th>Polio</th>\n",
              "      <th>Total expenditure</th>\n",
              "      <th>Diphtheria</th>\n",
              "      <th>HIV/AIDS</th>\n",
              "      <th>GDP</th>\n",
              "      <th>Population</th>\n",
              "      <th>thinness  1-19 years</th>\n",
              "      <th>thinness 5-9 years</th>\n",
              "      <th>Income composition of resources</th>\n",
              "      <th>Schooling</th>\n",
              "    </tr>\n",
              "  </thead>\n",
              "  <tbody>\n",
              "    <tr>\n",
              "      <th>0</th>\n",
              "      <td>Finland</td>\n",
              "      <td>2013</td>\n",
              "      <td>Developing</td>\n",
              "      <td>87.0</td>\n",
              "      <td>79.0</td>\n",
              "      <td>0</td>\n",
              "      <td>8.97</td>\n",
              "      <td>6115.496624</td>\n",
              "      <td>NaN</td>\n",
              "      <td>2</td>\n",
              "      <td>...</td>\n",
              "      <td>98.0</td>\n",
              "      <td>9.55</td>\n",
              "      <td>98.0</td>\n",
              "      <td>0.1</td>\n",
              "      <td>49638.771300</td>\n",
              "      <td>5438972.0</td>\n",
              "      <td>0.9</td>\n",
              "      <td>0.8</td>\n",
              "      <td>0.887</td>\n",
              "      <td>17.0</td>\n",
              "    </tr>\n",
              "    <tr>\n",
              "      <th>1</th>\n",
              "      <td>Japan</td>\n",
              "      <td>2015</td>\n",
              "      <td>Developed</td>\n",
              "      <td>83.7</td>\n",
              "      <td>55.0</td>\n",
              "      <td>2</td>\n",
              "      <td>NaN</td>\n",
              "      <td>0.000000</td>\n",
              "      <td>NaN</td>\n",
              "      <td>35</td>\n",
              "      <td>...</td>\n",
              "      <td>99.0</td>\n",
              "      <td>NaN</td>\n",
              "      <td>96.0</td>\n",
              "      <td>0.1</td>\n",
              "      <td>34474.137360</td>\n",
              "      <td>127141.0</td>\n",
              "      <td>2.1</td>\n",
              "      <td>1.8</td>\n",
              "      <td>0.902</td>\n",
              "      <td>15.3</td>\n",
              "    </tr>\n",
              "    <tr>\n",
              "      <th>2</th>\n",
              "      <td>Syrian Arab Republic</td>\n",
              "      <td>2014</td>\n",
              "      <td>Developing</td>\n",
              "      <td>64.4</td>\n",
              "      <td>294.0</td>\n",
              "      <td>7</td>\n",
              "      <td>0.01</td>\n",
              "      <td>0.000000</td>\n",
              "      <td>47.0</td>\n",
              "      <td>594</td>\n",
              "      <td>...</td>\n",
              "      <td>52.0</td>\n",
              "      <td>3.25</td>\n",
              "      <td>43.0</td>\n",
              "      <td>0.1</td>\n",
              "      <td>NaN</td>\n",
              "      <td>19239.0</td>\n",
              "      <td>6.3</td>\n",
              "      <td>6.1</td>\n",
              "      <td>0.575</td>\n",
              "      <td>9.0</td>\n",
              "    </tr>\n",
              "    <tr>\n",
              "      <th>3</th>\n",
              "      <td>Latvia</td>\n",
              "      <td>2010</td>\n",
              "      <td>Developed</td>\n",
              "      <td>72.8</td>\n",
              "      <td>18.0</td>\n",
              "      <td>0</td>\n",
              "      <td>9.80</td>\n",
              "      <td>1109.969508</td>\n",
              "      <td>91.0</td>\n",
              "      <td>0</td>\n",
              "      <td>...</td>\n",
              "      <td>92.0</td>\n",
              "      <td>6.55</td>\n",
              "      <td>92.0</td>\n",
              "      <td>0.1</td>\n",
              "      <td>11326.219470</td>\n",
              "      <td>297555.0</td>\n",
              "      <td>2.2</td>\n",
              "      <td>2.3</td>\n",
              "      <td>0.815</td>\n",
              "      <td>16.0</td>\n",
              "    </tr>\n",
              "    <tr>\n",
              "      <th>4</th>\n",
              "      <td>Sao Tome and Principe</td>\n",
              "      <td>2013</td>\n",
              "      <td>Developing</td>\n",
              "      <td>67.1</td>\n",
              "      <td>192.0</td>\n",
              "      <td>0</td>\n",
              "      <td>0.01</td>\n",
              "      <td>200.660099</td>\n",
              "      <td>97.0</td>\n",
              "      <td>0</td>\n",
              "      <td>...</td>\n",
              "      <td>97.0</td>\n",
              "      <td>9.76</td>\n",
              "      <td>97.0</td>\n",
              "      <td>0.2</td>\n",
              "      <td>1619.532678</td>\n",
              "      <td>18745.0</td>\n",
              "      <td>5.7</td>\n",
              "      <td>5.5</td>\n",
              "      <td>0.559</td>\n",
              "      <td>11.0</td>\n",
              "    </tr>\n",
              "    <tr>\n",
              "      <th>...</th>\n",
              "      <td>...</td>\n",
              "      <td>...</td>\n",
              "      <td>...</td>\n",
              "      <td>...</td>\n",
              "      <td>...</td>\n",
              "      <td>...</td>\n",
              "      <td>...</td>\n",
              "      <td>...</td>\n",
              "      <td>...</td>\n",
              "      <td>...</td>\n",
              "      <td>...</td>\n",
              "      <td>...</td>\n",
              "      <td>...</td>\n",
              "      <td>...</td>\n",
              "      <td>...</td>\n",
              "      <td>...</td>\n",
              "      <td>...</td>\n",
              "      <td>...</td>\n",
              "      <td>...</td>\n",
              "      <td>...</td>\n",
              "      <td>...</td>\n",
              "    </tr>\n",
              "    <tr>\n",
              "      <th>2492</th>\n",
              "      <td>Tunisia</td>\n",
              "      <td>2000</td>\n",
              "      <td>Developing</td>\n",
              "      <td>72.9</td>\n",
              "      <td>112.0</td>\n",
              "      <td>4</td>\n",
              "      <td>1.21</td>\n",
              "      <td>264.784220</td>\n",
              "      <td>94.0</td>\n",
              "      <td>47</td>\n",
              "      <td>...</td>\n",
              "      <td>97.0</td>\n",
              "      <td>5.40</td>\n",
              "      <td>97.0</td>\n",
              "      <td>0.1</td>\n",
              "      <td>2213.914880</td>\n",
              "      <td>9699197.0</td>\n",
              "      <td>6.6</td>\n",
              "      <td>6.5</td>\n",
              "      <td>0.646</td>\n",
              "      <td>12.8</td>\n",
              "    </tr>\n",
              "    <tr>\n",
              "      <th>2493</th>\n",
              "      <td>Myanmar</td>\n",
              "      <td>2001</td>\n",
              "      <td>Developing</td>\n",
              "      <td>62.5</td>\n",
              "      <td>239.0</td>\n",
              "      <td>72</td>\n",
              "      <td>0.38</td>\n",
              "      <td>1.917164</td>\n",
              "      <td>NaN</td>\n",
              "      <td>2519</td>\n",
              "      <td>...</td>\n",
              "      <td>77.0</td>\n",
              "      <td>1.80</td>\n",
              "      <td>73.0</td>\n",
              "      <td>0.4</td>\n",
              "      <td>138.924927</td>\n",
              "      <td>46627994.0</td>\n",
              "      <td>13.3</td>\n",
              "      <td>13.7</td>\n",
              "      <td>0.427</td>\n",
              "      <td>7.6</td>\n",
              "    </tr>\n",
              "    <tr>\n",
              "      <th>2494</th>\n",
              "      <td>Netherlands</td>\n",
              "      <td>2008</td>\n",
              "      <td>Developed</td>\n",
              "      <td>83.0</td>\n",
              "      <td>68.0</td>\n",
              "      <td>1</td>\n",
              "      <td>9.62</td>\n",
              "      <td>10873.405540</td>\n",
              "      <td>NaN</td>\n",
              "      <td>109</td>\n",
              "      <td>...</td>\n",
              "      <td>97.0</td>\n",
              "      <td>9.57</td>\n",
              "      <td>97.0</td>\n",
              "      <td>0.1</td>\n",
              "      <td>56928.824800</td>\n",
              "      <td>16445593.0</td>\n",
              "      <td>1.0</td>\n",
              "      <td>0.9</td>\n",
              "      <td>0.905</td>\n",
              "      <td>16.8</td>\n",
              "    </tr>\n",
              "    <tr>\n",
              "      <th>2495</th>\n",
              "      <td>South Sudan</td>\n",
              "      <td>2013</td>\n",
              "      <td>Developing</td>\n",
              "      <td>56.4</td>\n",
              "      <td>345.0</td>\n",
              "      <td>26</td>\n",
              "      <td>NaN</td>\n",
              "      <td>47.444530</td>\n",
              "      <td>NaN</td>\n",
              "      <td>525</td>\n",
              "      <td>...</td>\n",
              "      <td>5.0</td>\n",
              "      <td>2.62</td>\n",
              "      <td>45.0</td>\n",
              "      <td>3.6</td>\n",
              "      <td>1186.113250</td>\n",
              "      <td>1117749.0</td>\n",
              "      <td>NaN</td>\n",
              "      <td>NaN</td>\n",
              "      <td>0.417</td>\n",
              "      <td>4.9</td>\n",
              "    </tr>\n",
              "    <tr>\n",
              "      <th>2496</th>\n",
              "      <td>Guatemala</td>\n",
              "      <td>2000</td>\n",
              "      <td>Developing</td>\n",
              "      <td>67.7</td>\n",
              "      <td>221.0</td>\n",
              "      <td>17</td>\n",
              "      <td>2.63</td>\n",
              "      <td>238.736981</td>\n",
              "      <td>NaN</td>\n",
              "      <td>0</td>\n",
              "      <td>...</td>\n",
              "      <td>8.0</td>\n",
              "      <td>5.25</td>\n",
              "      <td>81.0</td>\n",
              "      <td>0.2</td>\n",
              "      <td>1655.596261</td>\n",
              "      <td>1165743.0</td>\n",
              "      <td>1.6</td>\n",
              "      <td>1.6</td>\n",
              "      <td>0.539</td>\n",
              "      <td>8.2</td>\n",
              "    </tr>\n",
              "  </tbody>\n",
              "</table>\n",
              "<p>2497 rows × 22 columns</p>\n",
              "</div>"
            ],
            "text/plain": [
              "                    Country  Year      Status  Life expectancy   \\\n",
              "0                   Finland  2013  Developing              87.0   \n",
              "1                     Japan  2015   Developed              83.7   \n",
              "2      Syrian Arab Republic  2014  Developing              64.4   \n",
              "3                    Latvia  2010   Developed              72.8   \n",
              "4     Sao Tome and Principe  2013  Developing              67.1   \n",
              "...                     ...   ...         ...               ...   \n",
              "2492                Tunisia  2000  Developing              72.9   \n",
              "2493                Myanmar  2001  Developing              62.5   \n",
              "2494            Netherlands  2008   Developed              83.0   \n",
              "2495            South Sudan  2013  Developing              56.4   \n",
              "2496              Guatemala  2000  Developing              67.7   \n",
              "\n",
              "      Adult Mortality  infant deaths  Alcohol  percentage expenditure  \\\n",
              "0                79.0              0     8.97             6115.496624   \n",
              "1                55.0              2      NaN                0.000000   \n",
              "2               294.0              7     0.01                0.000000   \n",
              "3                18.0              0     9.80             1109.969508   \n",
              "4               192.0              0     0.01              200.660099   \n",
              "...               ...            ...      ...                     ...   \n",
              "2492            112.0              4     1.21              264.784220   \n",
              "2493            239.0             72     0.38                1.917164   \n",
              "2494             68.0              1     9.62            10873.405540   \n",
              "2495            345.0             26      NaN               47.444530   \n",
              "2496            221.0             17     2.63              238.736981   \n",
              "\n",
              "      Hepatitis B  Measles   ...  Polio  Total expenditure  Diphtheria   \\\n",
              "0             NaN         2  ...   98.0               9.55         98.0   \n",
              "1             NaN        35  ...   99.0                NaN         96.0   \n",
              "2            47.0       594  ...   52.0               3.25         43.0   \n",
              "3            91.0         0  ...   92.0               6.55         92.0   \n",
              "4            97.0         0  ...   97.0               9.76         97.0   \n",
              "...           ...       ...  ...    ...                ...          ...   \n",
              "2492         94.0        47  ...   97.0               5.40         97.0   \n",
              "2493          NaN      2519  ...   77.0               1.80         73.0   \n",
              "2494          NaN       109  ...   97.0               9.57         97.0   \n",
              "2495          NaN       525  ...    5.0               2.62         45.0   \n",
              "2496          NaN         0  ...    8.0               5.25         81.0   \n",
              "\n",
              "       HIV/AIDS           GDP  Population   thinness  1-19 years  \\\n",
              "0           0.1  49638.771300   5438972.0                    0.9   \n",
              "1           0.1  34474.137360    127141.0                    2.1   \n",
              "2           0.1           NaN     19239.0                    6.3   \n",
              "3           0.1  11326.219470    297555.0                    2.2   \n",
              "4           0.2   1619.532678     18745.0                    5.7   \n",
              "...         ...           ...         ...                    ...   \n",
              "2492        0.1   2213.914880   9699197.0                    6.6   \n",
              "2493        0.4    138.924927  46627994.0                   13.3   \n",
              "2494        0.1  56928.824800  16445593.0                    1.0   \n",
              "2495        3.6   1186.113250   1117749.0                    NaN   \n",
              "2496        0.2   1655.596261   1165743.0                    1.6   \n",
              "\n",
              "       thinness 5-9 years  Income composition of resources  Schooling  \n",
              "0                     0.8                            0.887       17.0  \n",
              "1                     1.8                            0.902       15.3  \n",
              "2                     6.1                            0.575        9.0  \n",
              "3                     2.3                            0.815       16.0  \n",
              "4                     5.5                            0.559       11.0  \n",
              "...                   ...                              ...        ...  \n",
              "2492                  6.5                            0.646       12.8  \n",
              "2493                 13.7                            0.427        7.6  \n",
              "2494                  0.9                            0.905       16.8  \n",
              "2495                  NaN                            0.417        4.9  \n",
              "2496                  1.6                            0.539        8.2  \n",
              "\n",
              "[2497 rows x 22 columns]"
            ]
          },
          "execution_count": 108,
          "metadata": {},
          "output_type": "execute_result"
        }
      ],
      "source": [
        "df = pd.read_csv('./dataset.csv')\n",
        "df"
      ]
    },
    {
      "attachments": {},
      "cell_type": "markdown",
      "metadata": {
        "id": "HBsBXJ5dU_PR"
      },
      "source": [
        "Plot \"year\" against \"average life expectancy\""
      ]
    },
    {
      "cell_type": "code",
      "execution_count": 41,
      "metadata": {
        "execution": {
          "iopub.execute_input": "2023-04-30T08:33:33.478151Z",
          "iopub.status.busy": "2023-04-30T08:33:33.477341Z",
          "iopub.status.idle": "2023-04-30T08:33:33.711698Z",
          "shell.execute_reply": "2023-04-30T08:33:33.710510Z",
          "shell.execute_reply.started": "2023-04-30T08:33:33.478109Z"
        },
        "id": "-DfKHpd8U_PR",
        "trusted": true
      },
      "outputs": [
        {
          "data": {
            "image/png": "[encoded data removed]",
            "text/plain": [
              "<Figure size 432x288 with 1 Axes>"
            ]
          },
          "metadata": {
            "needs_background": "light"
          },
          "output_type": "display_data"
        }
      ],
      "source": [
        "import matplotlib.pyplot as plt\n",
        "df.groupby('Year')['Life expectancy '].mean().plot()\n",
        "plt.ylabel('Life expectancy')\n",
        "plt.show()"
      ]
    },
    {
      "attachments": {},
      "cell_type": "markdown",
      "metadata": {
        "id": "_euMb0n0U_PR"
      },
      "source": [
        "Compare the average life expectancy of \"Developed\" and \"Developing\" countries for each year "
      ]
    },
    {
      "cell_type": "code",
      "execution_count": 42,
      "metadata": {},
      "outputs": [
        {
          "data": {
            "text/html": [
              "<div>\n",
              "<style scoped>\n",
              "    .dataframe tbody tr th:only-of-type {\n",
              "        vertical-align: middle;\n",
              "    }\n",
              "\n",
              "    .dataframe tbody tr th {\n",
              "        vertical-align: top;\n",
              "    }\n",
              "\n",
              "    .dataframe thead th {\n",
              "        text-align: right;\n",
              "    }\n",
              "</style>\n",
              "<table border=\"1\" class=\"dataframe\">\n",
              "  <thead>\n",
              "    <tr style=\"text-align: right;\">\n",
              "      <th>Status</th>\n",
              "      <th>Developed</th>\n",
              "      <th>Developing</th>\n",
              "    </tr>\n",
              "    <tr>\n",
              "      <th>Year</th>\n",
              "      <th></th>\n",
              "      <th></th>\n",
              "    </tr>\n",
              "  </thead>\n",
              "  <tbody>\n",
              "    <tr>\n",
              "      <th>2000</th>\n",
              "      <td>76.891667</td>\n",
              "      <td>65.004959</td>\n",
              "    </tr>\n",
              "    <tr>\n",
              "      <th>2001</th>\n",
              "      <td>77.114286</td>\n",
              "      <td>65.048120</td>\n",
              "    </tr>\n",
              "    <tr>\n",
              "      <th>2002</th>\n",
              "      <td>77.710000</td>\n",
              "      <td>64.393496</td>\n",
              "    </tr>\n",
              "    <tr>\n",
              "      <th>2003</th>\n",
              "      <td>78.257692</td>\n",
              "      <td>65.617213</td>\n",
              "    </tr>\n",
              "    <tr>\n",
              "      <th>2004</th>\n",
              "      <td>78.452000</td>\n",
              "      <td>65.500000</td>\n",
              "    </tr>\n",
              "    <tr>\n",
              "      <th>2005</th>\n",
              "      <td>78.792593</td>\n",
              "      <td>65.898450</td>\n",
              "    </tr>\n",
              "    <tr>\n",
              "      <th>2006</th>\n",
              "      <td>79.346667</td>\n",
              "      <td>67.167939</td>\n",
              "    </tr>\n",
              "    <tr>\n",
              "      <th>2007</th>\n",
              "      <td>79.252381</td>\n",
              "      <td>66.935878</td>\n",
              "    </tr>\n",
              "    <tr>\n",
              "      <th>2008</th>\n",
              "      <td>78.796552</td>\n",
              "      <td>67.365185</td>\n",
              "    </tr>\n",
              "    <tr>\n",
              "      <th>2009</th>\n",
              "      <td>79.581481</td>\n",
              "      <td>67.777206</td>\n",
              "    </tr>\n",
              "    <tr>\n",
              "      <th>2010</th>\n",
              "      <td>80.167857</td>\n",
              "      <td>67.404762</td>\n",
              "    </tr>\n",
              "    <tr>\n",
              "      <th>2011</th>\n",
              "      <td>79.821739</td>\n",
              "      <td>68.182443</td>\n",
              "    </tr>\n",
              "    <tr>\n",
              "      <th>2012</th>\n",
              "      <td>80.512000</td>\n",
              "      <td>68.823485</td>\n",
              "    </tr>\n",
              "    <tr>\n",
              "      <th>2013</th>\n",
              "      <td>80.376923</td>\n",
              "      <td>69.049606</td>\n",
              "    </tr>\n",
              "    <tr>\n",
              "      <th>2014</th>\n",
              "      <td>81.292593</td>\n",
              "      <td>69.442063</td>\n",
              "    </tr>\n",
              "    <tr>\n",
              "      <th>2015</th>\n",
              "      <td>80.175000</td>\n",
              "      <td>69.937984</td>\n",
              "    </tr>\n",
              "  </tbody>\n",
              "</table>\n",
              "</div>"
            ],
            "text/plain": [
              "Status  Developed  Developing\n",
              "Year                         \n",
              "2000    76.891667   65.004959\n",
              "2001    77.114286   65.048120\n",
              "2002    77.710000   64.393496\n",
              "2003    78.257692   65.617213\n",
              "2004    78.452000   65.500000\n",
              "2005    78.792593   65.898450\n",
              "2006    79.346667   67.167939\n",
              "2007    79.252381   66.935878\n",
              "2008    78.796552   67.365185\n",
              "2009    79.581481   67.777206\n",
              "2010    80.167857   67.404762\n",
              "2011    79.821739   68.182443\n",
              "2012    80.512000   68.823485\n",
              "2013    80.376923   69.049606\n",
              "2014    81.292593   69.442063\n",
              "2015    80.175000   69.937984"
            ]
          },
          "execution_count": 42,
          "metadata": {},
          "output_type": "execute_result"
        }
      ],
      "source": [
        "df.groupby(['Year', 'Status'])['Life expectancy '].mean().unstack()"
      ]
    },
    {
      "cell_type": "code",
      "execution_count": 44,
      "metadata": {
        "execution": {
          "iopub.execute_input": "2023-04-30T08:33:37.167866Z",
          "iopub.status.busy": "2023-04-30T08:33:37.167421Z",
          "iopub.status.idle": "2023-04-30T08:33:37.181164Z",
          "shell.execute_reply": "2023-04-30T08:33:37.179864Z",
          "shell.execute_reply.started": "2023-04-30T08:33:37.167824Z"
        },
        "id": "FHvcfXklU_PS",
        "trusted": true
      },
      "outputs": [
        {
          "data": {
            "image/png": "[encoded data removed]",
            "text/plain": [
              "<Figure size 432x288 with 1 Axes>"
            ]
          },
          "metadata": {
            "needs_background": "light"
          },
          "output_type": "display_data"
        }
      ],
      "source": [
        "# this the plot for the dataframe above\n",
        "df.groupby(['Year', 'Status'])['Life expectancy '].mean().unstack().plot()\n",
        "plt.ylabel('Life expectancy')\n",
        "plt.show()"
      ]
    },
    {
      "attachments": {},
      "cell_type": "markdown",
      "metadata": {
        "id": "v3PokphQU_PS"
      },
      "source": [
        "Get the correlation between \"Life expectancy\" and \"GDP\""
      ]
    },
    {
      "cell_type": "code",
      "execution_count": 45,
      "metadata": {
        "execution": {
          "iopub.execute_input": "2023-04-30T08:33:39.947838Z",
          "iopub.status.busy": "2023-04-30T08:33:39.947445Z",
          "iopub.status.idle": "2023-04-30T08:33:39.956485Z",
          "shell.execute_reply": "2023-04-30T08:33:39.955285Z",
          "shell.execute_reply.started": "2023-04-30T08:33:39.947799Z"
        },
        "id": "mOfNroPqU_PS",
        "trusted": true
      },
      "outputs": [
        {
          "data": {
            "text/plain": [
              "0.46525538795006427"
            ]
          },
          "execution_count": 45,
          "metadata": {},
          "output_type": "execute_result"
        }
      ],
      "source": [
        "df['Life expectancy '].corr(df['GDP'])"
      ]
    },
    {
      "attachments": {},
      "cell_type": "markdown",
      "metadata": {
        "id": "uL-6KStPU_PS"
      },
      "source": [
        "Find out the feature having the strongest correlation with the \"Life expectancy\"<br>\n",
        "Note: Do not display all of the correlation values. Your code should only print the result (the name of a column)."
      ]
    },
    {
      "cell_type": "code",
      "execution_count": 46,
      "metadata": {
        "execution": {
          "iopub.execute_input": "2023-04-30T08:33:44.958938Z",
          "iopub.status.busy": "2023-04-30T08:33:44.957730Z",
          "iopub.status.idle": "2023-04-30T08:33:44.977069Z",
          "shell.execute_reply": "2023-04-30T08:33:44.975781Z",
          "shell.execute_reply.started": "2023-04-30T08:33:44.958881Z"
        },
        "id": "sHqKM8nKU_PS",
        "trusted": true
      },
      "outputs": [
        {
          "data": {
            "text/plain": [
              "'Schooling'"
            ]
          },
          "execution_count": 46,
          "metadata": {},
          "output_type": "execute_result"
        }
      ],
      "source": [
        "df.corr()['Life expectancy '].sort_values(ascending=False).index[1]"
      ]
    },
    {
      "attachments": {},
      "cell_type": "markdown",
      "metadata": {
        "id": "Pbgj4XbWU_PS"
      },
      "source": [
        "# Preprocessing (20 points)"
      ]
    },
    {
      "attachments": {},
      "cell_type": "markdown",
      "metadata": {
        "id": "MeJjivW3U_PS"
      },
      "source": [
        "Remove the rows containing NaN (or null) values"
      ]
    },
    {
      "cell_type": "code",
      "execution_count": 109,
      "metadata": {
        "execution": {
          "iopub.execute_input": "2023-04-30T08:33:49.740394Z",
          "iopub.status.busy": "2023-04-30T08:33:49.739974Z",
          "iopub.status.idle": "2023-04-30T08:33:49.749989Z",
          "shell.execute_reply": "2023-04-30T08:33:49.748700Z",
          "shell.execute_reply.started": "2023-04-30T08:33:49.740354Z"
        },
        "id": "ZbBXGM9eU_PT",
        "trusted": true
      },
      "outputs": [
        {
          "data": {
            "text/html": [
              "<div>\n",
              "<style scoped>\n",
              "    .dataframe tbody tr th:only-of-type {\n",
              "        vertical-align: middle;\n",
              "    }\n",
              "\n",
              "    .dataframe tbody tr th {\n",
              "        vertical-align: top;\n",
              "    }\n",
              "\n",
              "    .dataframe thead th {\n",
              "        text-align: right;\n",
              "    }\n",
              "</style>\n",
              "<table border=\"1\" class=\"dataframe\">\n",
              "  <thead>\n",
              "    <tr style=\"text-align: right;\">\n",
              "      <th></th>\n",
              "      <th>Country</th>\n",
              "      <th>Year</th>\n",
              "      <th>Status</th>\n",
              "      <th>Life expectancy</th>\n",
              "      <th>Adult Mortality</th>\n",
              "      <th>infant deaths</th>\n",
              "      <th>Alcohol</th>\n",
              "      <th>percentage expenditure</th>\n",
              "      <th>Hepatitis B</th>\n",
              "      <th>Measles</th>\n",
              "      <th>...</th>\n",
              "      <th>Polio</th>\n",
              "      <th>Total expenditure</th>\n",
              "      <th>Diphtheria</th>\n",
              "      <th>HIV/AIDS</th>\n",
              "      <th>GDP</th>\n",
              "      <th>Population</th>\n",
              "      <th>thinness  1-19 years</th>\n",
              "      <th>thinness 5-9 years</th>\n",
              "      <th>Income composition of resources</th>\n",
              "      <th>Schooling</th>\n",
              "    </tr>\n",
              "  </thead>\n",
              "  <tbody>\n",
              "    <tr>\n",
              "      <th>3</th>\n",
              "      <td>Latvia</td>\n",
              "      <td>2010</td>\n",
              "      <td>Developed</td>\n",
              "      <td>72.8</td>\n",
              "      <td>18.0</td>\n",
              "      <td>0</td>\n",
              "      <td>9.80</td>\n",
              "      <td>1109.969508</td>\n",
              "      <td>91.0</td>\n",
              "      <td>0</td>\n",
              "      <td>...</td>\n",
              "      <td>92.0</td>\n",
              "      <td>6.55</td>\n",
              "      <td>92.0</td>\n",
              "      <td>0.1</td>\n",
              "      <td>11326.219470</td>\n",
              "      <td>297555.0</td>\n",
              "      <td>2.2</td>\n",
              "      <td>2.3</td>\n",
              "      <td>0.815</td>\n",
              "      <td>16.0</td>\n",
              "    </tr>\n",
              "    <tr>\n",
              "      <th>4</th>\n",
              "      <td>Sao Tome and Principe</td>\n",
              "      <td>2013</td>\n",
              "      <td>Developing</td>\n",
              "      <td>67.1</td>\n",
              "      <td>192.0</td>\n",
              "      <td>0</td>\n",
              "      <td>0.01</td>\n",
              "      <td>200.660099</td>\n",
              "      <td>97.0</td>\n",
              "      <td>0</td>\n",
              "      <td>...</td>\n",
              "      <td>97.0</td>\n",
              "      <td>9.76</td>\n",
              "      <td>97.0</td>\n",
              "      <td>0.2</td>\n",
              "      <td>1619.532678</td>\n",
              "      <td>18745.0</td>\n",
              "      <td>5.7</td>\n",
              "      <td>5.5</td>\n",
              "      <td>0.559</td>\n",
              "      <td>11.0</td>\n",
              "    </tr>\n",
              "    <tr>\n",
              "      <th>7</th>\n",
              "      <td>Colombia</td>\n",
              "      <td>2005</td>\n",
              "      <td>Developing</td>\n",
              "      <td>73.1</td>\n",
              "      <td>144.0</td>\n",
              "      <td>15</td>\n",
              "      <td>4.38</td>\n",
              "      <td>531.980818</td>\n",
              "      <td>93.0</td>\n",
              "      <td>0</td>\n",
              "      <td>...</td>\n",
              "      <td>93.0</td>\n",
              "      <td>5.82</td>\n",
              "      <td>93.0</td>\n",
              "      <td>0.1</td>\n",
              "      <td>3386.256000</td>\n",
              "      <td>43285634.0</td>\n",
              "      <td>2.4</td>\n",
              "      <td>2.1</td>\n",
              "      <td>0.658</td>\n",
              "      <td>11.1</td>\n",
              "    </tr>\n",
              "    <tr>\n",
              "      <th>11</th>\n",
              "      <td>Botswana</td>\n",
              "      <td>2012</td>\n",
              "      <td>Developing</td>\n",
              "      <td>63.4</td>\n",
              "      <td>3.0</td>\n",
              "      <td>2</td>\n",
              "      <td>0.01</td>\n",
              "      <td>12.834474</td>\n",
              "      <td>95.0</td>\n",
              "      <td>7</td>\n",
              "      <td>...</td>\n",
              "      <td>96.0</td>\n",
              "      <td>6.27</td>\n",
              "      <td>95.0</td>\n",
              "      <td>4.4</td>\n",
              "      <td>729.231453</td>\n",
              "      <td>289315.0</td>\n",
              "      <td>7.3</td>\n",
              "      <td>7.0</td>\n",
              "      <td>0.687</td>\n",
              "      <td>12.5</td>\n",
              "    </tr>\n",
              "    <tr>\n",
              "      <th>12</th>\n",
              "      <td>Mexico</td>\n",
              "      <td>2014</td>\n",
              "      <td>Developing</td>\n",
              "      <td>76.6</td>\n",
              "      <td>122.0</td>\n",
              "      <td>31</td>\n",
              "      <td>5.26</td>\n",
              "      <td>168.173753</td>\n",
              "      <td>84.0</td>\n",
              "      <td>3</td>\n",
              "      <td>...</td>\n",
              "      <td>87.0</td>\n",
              "      <td>6.30</td>\n",
              "      <td>87.0</td>\n",
              "      <td>0.1</td>\n",
              "      <td>1452.277660</td>\n",
              "      <td>1242216.0</td>\n",
              "      <td>1.6</td>\n",
              "      <td>1.5</td>\n",
              "      <td>0.754</td>\n",
              "      <td>13.1</td>\n",
              "    </tr>\n",
              "    <tr>\n",
              "      <th>...</th>\n",
              "      <td>...</td>\n",
              "      <td>...</td>\n",
              "      <td>...</td>\n",
              "      <td>...</td>\n",
              "      <td>...</td>\n",
              "      <td>...</td>\n",
              "      <td>...</td>\n",
              "      <td>...</td>\n",
              "      <td>...</td>\n",
              "      <td>...</td>\n",
              "      <td>...</td>\n",
              "      <td>...</td>\n",
              "      <td>...</td>\n",
              "      <td>...</td>\n",
              "      <td>...</td>\n",
              "      <td>...</td>\n",
              "      <td>...</td>\n",
              "      <td>...</td>\n",
              "      <td>...</td>\n",
              "      <td>...</td>\n",
              "      <td>...</td>\n",
              "    </tr>\n",
              "    <tr>\n",
              "      <th>2481</th>\n",
              "      <td>Mauritius</td>\n",
              "      <td>2009</td>\n",
              "      <td>Developing</td>\n",
              "      <td>72.8</td>\n",
              "      <td>166.0</td>\n",
              "      <td>0</td>\n",
              "      <td>2.83</td>\n",
              "      <td>624.236183</td>\n",
              "      <td>99.0</td>\n",
              "      <td>15</td>\n",
              "      <td>...</td>\n",
              "      <td>99.0</td>\n",
              "      <td>4.97</td>\n",
              "      <td>99.0</td>\n",
              "      <td>0.1</td>\n",
              "      <td>7318.126410</td>\n",
              "      <td>1247429.0</td>\n",
              "      <td>7.3</td>\n",
              "      <td>7.3</td>\n",
              "      <td>0.734</td>\n",
              "      <td>13.8</td>\n",
              "    </tr>\n",
              "    <tr>\n",
              "      <th>2485</th>\n",
              "      <td>Mali</td>\n",
              "      <td>2009</td>\n",
              "      <td>Developing</td>\n",
              "      <td>56.0</td>\n",
              "      <td>276.0</td>\n",
              "      <td>55</td>\n",
              "      <td>0.59</td>\n",
              "      <td>84.634389</td>\n",
              "      <td>71.0</td>\n",
              "      <td>2939</td>\n",
              "      <td>...</td>\n",
              "      <td>77.0</td>\n",
              "      <td>6.85</td>\n",
              "      <td>73.0</td>\n",
              "      <td>1.6</td>\n",
              "      <td>697.153124</td>\n",
              "      <td>1466597.0</td>\n",
              "      <td>9.0</td>\n",
              "      <td>8.8</td>\n",
              "      <td>0.385</td>\n",
              "      <td>7.1</td>\n",
              "    </tr>\n",
              "    <tr>\n",
              "      <th>2488</th>\n",
              "      <td>Turkmenistan</td>\n",
              "      <td>2008</td>\n",
              "      <td>Developing</td>\n",
              "      <td>64.5</td>\n",
              "      <td>235.0</td>\n",
              "      <td>6</td>\n",
              "      <td>2.40</td>\n",
              "      <td>34.239794</td>\n",
              "      <td>96.0</td>\n",
              "      <td>0</td>\n",
              "      <td>...</td>\n",
              "      <td>96.0</td>\n",
              "      <td>1.93</td>\n",
              "      <td>96.0</td>\n",
              "      <td>0.1</td>\n",
              "      <td>394.467675</td>\n",
              "      <td>4935762.0</td>\n",
              "      <td>3.2</td>\n",
              "      <td>3.3</td>\n",
              "      <td>0.000</td>\n",
              "      <td>10.5</td>\n",
              "    </tr>\n",
              "    <tr>\n",
              "      <th>2490</th>\n",
              "      <td>Angola</td>\n",
              "      <td>2007</td>\n",
              "      <td>Developing</td>\n",
              "      <td>48.2</td>\n",
              "      <td>375.0</td>\n",
              "      <td>87</td>\n",
              "      <td>6.35</td>\n",
              "      <td>184.821345</td>\n",
              "      <td>73.0</td>\n",
              "      <td>1014</td>\n",
              "      <td>...</td>\n",
              "      <td>75.0</td>\n",
              "      <td>3.38</td>\n",
              "      <td>73.0</td>\n",
              "      <td>2.6</td>\n",
              "      <td>2878.837144</td>\n",
              "      <td>2997687.0</td>\n",
              "      <td>9.6</td>\n",
              "      <td>9.6</td>\n",
              "      <td>0.454</td>\n",
              "      <td>7.7</td>\n",
              "    </tr>\n",
              "    <tr>\n",
              "      <th>2492</th>\n",
              "      <td>Tunisia</td>\n",
              "      <td>2000</td>\n",
              "      <td>Developing</td>\n",
              "      <td>72.9</td>\n",
              "      <td>112.0</td>\n",
              "      <td>4</td>\n",
              "      <td>1.21</td>\n",
              "      <td>264.784220</td>\n",
              "      <td>94.0</td>\n",
              "      <td>47</td>\n",
              "      <td>...</td>\n",
              "      <td>97.0</td>\n",
              "      <td>5.40</td>\n",
              "      <td>97.0</td>\n",
              "      <td>0.1</td>\n",
              "      <td>2213.914880</td>\n",
              "      <td>9699197.0</td>\n",
              "      <td>6.6</td>\n",
              "      <td>6.5</td>\n",
              "      <td>0.646</td>\n",
              "      <td>12.8</td>\n",
              "    </tr>\n",
              "  </tbody>\n",
              "</table>\n",
              "<p>1415 rows × 22 columns</p>\n",
              "</div>"
            ],
            "text/plain": [
              "                    Country  Year      Status  Life expectancy   \\\n",
              "3                    Latvia  2010   Developed              72.8   \n",
              "4     Sao Tome and Principe  2013  Developing              67.1   \n",
              "7                  Colombia  2005  Developing              73.1   \n",
              "11                 Botswana  2012  Developing              63.4   \n",
              "12                   Mexico  2014  Developing              76.6   \n",
              "...                     ...   ...         ...               ...   \n",
              "2481              Mauritius  2009  Developing              72.8   \n",
              "2485                   Mali  2009  Developing              56.0   \n",
              "2488           Turkmenistan  2008  Developing              64.5   \n",
              "2490                 Angola  2007  Developing              48.2   \n",
              "2492                Tunisia  2000  Developing              72.9   \n",
              "\n",
              "      Adult Mortality  infant deaths  Alcohol  percentage expenditure  \\\n",
              "3                18.0              0     9.80             1109.969508   \n",
              "4               192.0              0     0.01              200.660099   \n",
              "7               144.0             15     4.38              531.980818   \n",
              "11                3.0              2     0.01               12.834474   \n",
              "12              122.0             31     5.26              168.173753   \n",
              "...               ...            ...      ...                     ...   \n",
              "2481            166.0              0     2.83              624.236183   \n",
              "2485            276.0             55     0.59               84.634389   \n",
              "2488            235.0              6     2.40               34.239794   \n",
              "2490            375.0             87     6.35              184.821345   \n",
              "2492            112.0              4     1.21              264.784220   \n",
              "\n",
              "      Hepatitis B  Measles   ...  Polio  Total expenditure  Diphtheria   \\\n",
              "3            91.0         0  ...   92.0               6.55         92.0   \n",
              "4            97.0         0  ...   97.0               9.76         97.0   \n",
              "7            93.0         0  ...   93.0               5.82         93.0   \n",
              "11           95.0         7  ...   96.0               6.27         95.0   \n",
              "12           84.0         3  ...   87.0               6.30         87.0   \n",
              "...           ...       ...  ...    ...                ...          ...   \n",
              "2481         99.0        15  ...   99.0               4.97         99.0   \n",
              "2485         71.0      2939  ...   77.0               6.85         73.0   \n",
              "2488         96.0         0  ...   96.0               1.93         96.0   \n",
              "2490         73.0      1014  ...   75.0               3.38         73.0   \n",
              "2492         94.0        47  ...   97.0               5.40         97.0   \n",
              "\n",
              "       HIV/AIDS           GDP  Population   thinness  1-19 years  \\\n",
              "3           0.1  11326.219470    297555.0                    2.2   \n",
              "4           0.2   1619.532678     18745.0                    5.7   \n",
              "7           0.1   3386.256000  43285634.0                    2.4   \n",
              "11          4.4    729.231453    289315.0                    7.3   \n",
              "12          0.1   1452.277660   1242216.0                    1.6   \n",
              "...         ...           ...         ...                    ...   \n",
              "2481        0.1   7318.126410   1247429.0                    7.3   \n",
              "2485        1.6    697.153124   1466597.0                    9.0   \n",
              "2488        0.1    394.467675   4935762.0                    3.2   \n",
              "2490        2.6   2878.837144   2997687.0                    9.6   \n",
              "2492        0.1   2213.914880   9699197.0                    6.6   \n",
              "\n",
              "       thinness 5-9 years  Income composition of resources  Schooling  \n",
              "3                     2.3                            0.815       16.0  \n",
              "4                     5.5                            0.559       11.0  \n",
              "7                     2.1                            0.658       11.1  \n",
              "11                    7.0                            0.687       12.5  \n",
              "12                    1.5                            0.754       13.1  \n",
              "...                   ...                              ...        ...  \n",
              "2481                  7.3                            0.734       13.8  \n",
              "2485                  8.8                            0.385        7.1  \n",
              "2488                  3.3                            0.000       10.5  \n",
              "2490                  9.6                            0.454        7.7  \n",
              "2492                  6.5                            0.646       12.8  \n",
              "\n",
              "[1415 rows x 22 columns]"
            ]
          },
          "execution_count": 109,
          "metadata": {},
          "output_type": "execute_result"
        }
      ],
      "source": [
        "df = df.dropna(axis=0)\n",
        "df"
      ]
    },
    {
      "attachments": {},
      "cell_type": "markdown",
      "metadata": {
        "id": "8tbAjlb2U_PT"
      },
      "source": [
        "Convert categorical columns into their one-hot encoded versions"
      ]
    },
    {
      "cell_type": "code",
      "execution_count": 110,
      "metadata": {
        "execution": {
          "iopub.execute_input": "2023-04-30T08:33:50.336817Z",
          "iopub.status.busy": "2023-04-30T08:33:50.335572Z",
          "iopub.status.idle": "2023-04-30T08:33:50.349409Z",
          "shell.execute_reply": "2023-04-30T08:33:50.348213Z",
          "shell.execute_reply.started": "2023-04-30T08:33:50.336755Z"
        },
        "id": "shlrP4pTU_PT",
        "trusted": true
      },
      "outputs": [
        {
          "data": {
            "text/html": [
              "<div>\n",
              "<style scoped>\n",
              "    .dataframe tbody tr th:only-of-type {\n",
              "        vertical-align: middle;\n",
              "    }\n",
              "\n",
              "    .dataframe tbody tr th {\n",
              "        vertical-align: top;\n",
              "    }\n",
              "\n",
              "    .dataframe thead th {\n",
              "        text-align: right;\n",
              "    }\n",
              "</style>\n",
              "<table border=\"1\" class=\"dataframe\">\n",
              "  <thead>\n",
              "    <tr style=\"text-align: right;\">\n",
              "      <th></th>\n",
              "      <th>Year</th>\n",
              "      <th>Life expectancy</th>\n",
              "      <th>Adult Mortality</th>\n",
              "      <th>infant deaths</th>\n",
              "      <th>Alcohol</th>\n",
              "      <th>percentage expenditure</th>\n",
              "      <th>Hepatitis B</th>\n",
              "      <th>Measles</th>\n",
              "      <th>BMI</th>\n",
              "      <th>under-five deaths</th>\n",
              "      <th>...</th>\n",
              "      <th>Country_Tunisia</th>\n",
              "      <th>Country_Turkey</th>\n",
              "      <th>Country_Turkmenistan</th>\n",
              "      <th>Country_Uganda</th>\n",
              "      <th>Country_Ukraine</th>\n",
              "      <th>Country_Uruguay</th>\n",
              "      <th>Country_Uzbekistan</th>\n",
              "      <th>Country_Vanuatu</th>\n",
              "      <th>Country_Zambia</th>\n",
              "      <th>Country_Zimbabwe</th>\n",
              "    </tr>\n",
              "  </thead>\n",
              "  <tbody>\n",
              "    <tr>\n",
              "      <th>3</th>\n",
              "      <td>2010</td>\n",
              "      <td>72.8</td>\n",
              "      <td>18.0</td>\n",
              "      <td>0</td>\n",
              "      <td>9.80</td>\n",
              "      <td>1109.969508</td>\n",
              "      <td>91.0</td>\n",
              "      <td>0</td>\n",
              "      <td>58.9</td>\n",
              "      <td>0</td>\n",
              "      <td>...</td>\n",
              "      <td>0</td>\n",
              "      <td>0</td>\n",
              "      <td>0</td>\n",
              "      <td>0</td>\n",
              "      <td>0</td>\n",
              "      <td>0</td>\n",
              "      <td>0</td>\n",
              "      <td>0</td>\n",
              "      <td>0</td>\n",
              "      <td>0</td>\n",
              "    </tr>\n",
              "    <tr>\n",
              "      <th>4</th>\n",
              "      <td>2013</td>\n",
              "      <td>67.1</td>\n",
              "      <td>192.0</td>\n",
              "      <td>0</td>\n",
              "      <td>0.01</td>\n",
              "      <td>200.660099</td>\n",
              "      <td>97.0</td>\n",
              "      <td>0</td>\n",
              "      <td>29.3</td>\n",
              "      <td>0</td>\n",
              "      <td>...</td>\n",
              "      <td>0</td>\n",
              "      <td>0</td>\n",
              "      <td>0</td>\n",
              "      <td>0</td>\n",
              "      <td>0</td>\n",
              "      <td>0</td>\n",
              "      <td>0</td>\n",
              "      <td>0</td>\n",
              "      <td>0</td>\n",
              "      <td>0</td>\n",
              "    </tr>\n",
              "    <tr>\n",
              "      <th>7</th>\n",
              "      <td>2005</td>\n",
              "      <td>73.1</td>\n",
              "      <td>144.0</td>\n",
              "      <td>15</td>\n",
              "      <td>4.38</td>\n",
              "      <td>531.980818</td>\n",
              "      <td>93.0</td>\n",
              "      <td>0</td>\n",
              "      <td>5.5</td>\n",
              "      <td>18</td>\n",
              "      <td>...</td>\n",
              "      <td>0</td>\n",
              "      <td>0</td>\n",
              "      <td>0</td>\n",
              "      <td>0</td>\n",
              "      <td>0</td>\n",
              "      <td>0</td>\n",
              "      <td>0</td>\n",
              "      <td>0</td>\n",
              "      <td>0</td>\n",
              "      <td>0</td>\n",
              "    </tr>\n",
              "    <tr>\n",
              "      <th>11</th>\n",
              "      <td>2012</td>\n",
              "      <td>63.4</td>\n",
              "      <td>3.0</td>\n",
              "      <td>2</td>\n",
              "      <td>0.01</td>\n",
              "      <td>12.834474</td>\n",
              "      <td>95.0</td>\n",
              "      <td>7</td>\n",
              "      <td>36.2</td>\n",
              "      <td>3</td>\n",
              "      <td>...</td>\n",
              "      <td>0</td>\n",
              "      <td>0</td>\n",
              "      <td>0</td>\n",
              "      <td>0</td>\n",
              "      <td>0</td>\n",
              "      <td>0</td>\n",
              "      <td>0</td>\n",
              "      <td>0</td>\n",
              "      <td>0</td>\n",
              "      <td>0</td>\n",
              "    </tr>\n",
              "    <tr>\n",
              "      <th>12</th>\n",
              "      <td>2014</td>\n",
              "      <td>76.6</td>\n",
              "      <td>122.0</td>\n",
              "      <td>31</td>\n",
              "      <td>5.26</td>\n",
              "      <td>168.173753</td>\n",
              "      <td>84.0</td>\n",
              "      <td>3</td>\n",
              "      <td>62.8</td>\n",
              "      <td>36</td>\n",
              "      <td>...</td>\n",
              "      <td>0</td>\n",
              "      <td>0</td>\n",
              "      <td>0</td>\n",
              "      <td>0</td>\n",
              "      <td>0</td>\n",
              "      <td>0</td>\n",
              "      <td>0</td>\n",
              "      <td>0</td>\n",
              "      <td>0</td>\n",
              "      <td>0</td>\n",
              "    </tr>\n",
              "    <tr>\n",
              "      <th>...</th>\n",
              "      <td>...</td>\n",
              "      <td>...</td>\n",
              "      <td>...</td>\n",
              "      <td>...</td>\n",
              "      <td>...</td>\n",
              "      <td>...</td>\n",
              "      <td>...</td>\n",
              "      <td>...</td>\n",
              "      <td>...</td>\n",
              "      <td>...</td>\n",
              "      <td>...</td>\n",
              "      <td>...</td>\n",
              "      <td>...</td>\n",
              "      <td>...</td>\n",
              "      <td>...</td>\n",
              "      <td>...</td>\n",
              "      <td>...</td>\n",
              "      <td>...</td>\n",
              "      <td>...</td>\n",
              "      <td>...</td>\n",
              "      <td>...</td>\n",
              "    </tr>\n",
              "    <tr>\n",
              "      <th>2481</th>\n",
              "      <td>2009</td>\n",
              "      <td>72.8</td>\n",
              "      <td>166.0</td>\n",
              "      <td>0</td>\n",
              "      <td>2.83</td>\n",
              "      <td>624.236183</td>\n",
              "      <td>99.0</td>\n",
              "      <td>15</td>\n",
              "      <td>3.2</td>\n",
              "      <td>0</td>\n",
              "      <td>...</td>\n",
              "      <td>0</td>\n",
              "      <td>0</td>\n",
              "      <td>0</td>\n",
              "      <td>0</td>\n",
              "      <td>0</td>\n",
              "      <td>0</td>\n",
              "      <td>0</td>\n",
              "      <td>0</td>\n",
              "      <td>0</td>\n",
              "      <td>0</td>\n",
              "    </tr>\n",
              "    <tr>\n",
              "      <th>2485</th>\n",
              "      <td>2009</td>\n",
              "      <td>56.0</td>\n",
              "      <td>276.0</td>\n",
              "      <td>55</td>\n",
              "      <td>0.59</td>\n",
              "      <td>84.634389</td>\n",
              "      <td>71.0</td>\n",
              "      <td>2939</td>\n",
              "      <td>2.2</td>\n",
              "      <td>93</td>\n",
              "      <td>...</td>\n",
              "      <td>0</td>\n",
              "      <td>0</td>\n",
              "      <td>0</td>\n",
              "      <td>0</td>\n",
              "      <td>0</td>\n",
              "      <td>0</td>\n",
              "      <td>0</td>\n",
              "      <td>0</td>\n",
              "      <td>0</td>\n",
              "      <td>0</td>\n",
              "    </tr>\n",
              "    <tr>\n",
              "      <th>2488</th>\n",
              "      <td>2008</td>\n",
              "      <td>64.5</td>\n",
              "      <td>235.0</td>\n",
              "      <td>6</td>\n",
              "      <td>2.40</td>\n",
              "      <td>34.239794</td>\n",
              "      <td>96.0</td>\n",
              "      <td>0</td>\n",
              "      <td>42.7</td>\n",
              "      <td>8</td>\n",
              "      <td>...</td>\n",
              "      <td>0</td>\n",
              "      <td>0</td>\n",
              "      <td>1</td>\n",
              "      <td>0</td>\n",
              "      <td>0</td>\n",
              "      <td>0</td>\n",
              "      <td>0</td>\n",
              "      <td>0</td>\n",
              "      <td>0</td>\n",
              "      <td>0</td>\n",
              "    </tr>\n",
              "    <tr>\n",
              "      <th>2490</th>\n",
              "      <td>2007</td>\n",
              "      <td>48.2</td>\n",
              "      <td>375.0</td>\n",
              "      <td>87</td>\n",
              "      <td>6.35</td>\n",
              "      <td>184.821345</td>\n",
              "      <td>73.0</td>\n",
              "      <td>1014</td>\n",
              "      <td>18.8</td>\n",
              "      <td>138</td>\n",
              "      <td>...</td>\n",
              "      <td>0</td>\n",
              "      <td>0</td>\n",
              "      <td>0</td>\n",
              "      <td>0</td>\n",
              "      <td>0</td>\n",
              "      <td>0</td>\n",
              "      <td>0</td>\n",
              "      <td>0</td>\n",
              "      <td>0</td>\n",
              "      <td>0</td>\n",
              "    </tr>\n",
              "    <tr>\n",
              "      <th>2492</th>\n",
              "      <td>2000</td>\n",
              "      <td>72.9</td>\n",
              "      <td>112.0</td>\n",
              "      <td>4</td>\n",
              "      <td>1.21</td>\n",
              "      <td>264.784220</td>\n",
              "      <td>94.0</td>\n",
              "      <td>47</td>\n",
              "      <td>48.1</td>\n",
              "      <td>5</td>\n",
              "      <td>...</td>\n",
              "      <td>1</td>\n",
              "      <td>0</td>\n",
              "      <td>0</td>\n",
              "      <td>0</td>\n",
              "      <td>0</td>\n",
              "      <td>0</td>\n",
              "      <td>0</td>\n",
              "      <td>0</td>\n",
              "      <td>0</td>\n",
              "      <td>0</td>\n",
              "    </tr>\n",
              "  </tbody>\n",
              "</table>\n",
              "<p>1415 rows × 155 columns</p>\n",
              "</div>"
            ],
            "text/plain": [
              "      Year  Life expectancy   Adult Mortality  infant deaths  Alcohol  \\\n",
              "3     2010              72.8             18.0              0     9.80   \n",
              "4     2013              67.1            192.0              0     0.01   \n",
              "7     2005              73.1            144.0             15     4.38   \n",
              "11    2012              63.4              3.0              2     0.01   \n",
              "12    2014              76.6            122.0             31     5.26   \n",
              "...    ...               ...              ...            ...      ...   \n",
              "2481  2009              72.8            166.0              0     2.83   \n",
              "2485  2009              56.0            276.0             55     0.59   \n",
              "2488  2008              64.5            235.0              6     2.40   \n",
              "2490  2007              48.2            375.0             87     6.35   \n",
              "2492  2000              72.9            112.0              4     1.21   \n",
              "\n",
              "      percentage expenditure  Hepatitis B  Measles    BMI   \\\n",
              "3                1109.969508         91.0         0   58.9   \n",
              "4                 200.660099         97.0         0   29.3   \n",
              "7                 531.980818         93.0         0    5.5   \n",
              "11                 12.834474         95.0         7   36.2   \n",
              "12                168.173753         84.0         3   62.8   \n",
              "...                      ...          ...       ...    ...   \n",
              "2481              624.236183         99.0        15    3.2   \n",
              "2485               84.634389         71.0      2939    2.2   \n",
              "2488               34.239794         96.0         0   42.7   \n",
              "2490              184.821345         73.0      1014   18.8   \n",
              "2492              264.784220         94.0        47   48.1   \n",
              "\n",
              "      under-five deaths   ...  Country_Tunisia  Country_Turkey  \\\n",
              "3                      0  ...                0               0   \n",
              "4                      0  ...                0               0   \n",
              "7                     18  ...                0               0   \n",
              "11                     3  ...                0               0   \n",
              "12                    36  ...                0               0   \n",
              "...                  ...  ...              ...             ...   \n",
              "2481                   0  ...                0               0   \n",
              "2485                  93  ...                0               0   \n",
              "2488                   8  ...                0               0   \n",
              "2490                 138  ...                0               0   \n",
              "2492                   5  ...                1               0   \n",
              "\n",
              "      Country_Turkmenistan  Country_Uganda  Country_Ukraine  Country_Uruguay  \\\n",
              "3                        0               0                0                0   \n",
              "4                        0               0                0                0   \n",
              "7                        0               0                0                0   \n",
              "11                       0               0                0                0   \n",
              "12                       0               0                0                0   \n",
              "...                    ...             ...              ...              ...   \n",
              "2481                     0               0                0                0   \n",
              "2485                     0               0                0                0   \n",
              "2488                     1               0                0                0   \n",
              "2490                     0               0                0                0   \n",
              "2492                     0               0                0                0   \n",
              "\n",
              "      Country_Uzbekistan  Country_Vanuatu  Country_Zambia  Country_Zimbabwe  \n",
              "3                      0                0               0                 0  \n",
              "4                      0                0               0                 0  \n",
              "7                      0                0               0                 0  \n",
              "11                     0                0               0                 0  \n",
              "12                     0                0               0                 0  \n",
              "...                  ...              ...             ...               ...  \n",
              "2481                   0                0               0                 0  \n",
              "2485                   0                0               0                 0  \n",
              "2488                   0                0               0                 0  \n",
              "2490                   0                0               0                 0  \n",
              "2492                   0                0               0                 0  \n",
              "\n",
              "[1415 rows x 155 columns]"
            ]
          },
          "execution_count": 110,
          "metadata": {},
          "output_type": "execute_result"
        }
      ],
      "source": [
        "df = pd.get_dummies(df, columns=['Status', 'Country'])\n",
        "df"
      ]
    },
    {
      "attachments": {},
      "cell_type": "markdown",
      "metadata": {
        "id": "C6gaeeHxU_PT"
      },
      "source": [
        "Convert the dataframe into two numpy arrays (called `x` and `y`).<br>\n",
        "To make the first array, remove the \"Life expectancy\" column, and convert the remaining dataframe to a numpy array.<br>\n",
        "Then, use the removed column to make another numpy array (`y`)."
      ]
    },
    {
      "cell_type": "code",
      "execution_count": 111,
      "metadata": {
        "execution": {
          "iopub.execute_input": "2023-04-30T08:33:57.364230Z",
          "iopub.status.busy": "2023-04-30T08:33:57.363830Z",
          "iopub.status.idle": "2023-04-30T08:33:57.373246Z",
          "shell.execute_reply": "2023-04-30T08:33:57.372021Z",
          "shell.execute_reply.started": "2023-04-30T08:33:57.364195Z"
        },
        "id": "dbN1zZ-dU_PT",
        "trusted": true
      },
      "outputs": [],
      "source": [
        "X = df.drop(['Life expectancy '], axis=1).to_numpy()\n",
        "y = df['Life expectancy '].to_numpy()"
      ]
    },
    {
      "attachments": {},
      "cell_type": "markdown",
      "metadata": {
        "id": "X0OE0dA1U_PT"
      },
      "source": [
        "Normalize the data"
      ]
    },
    {
      "cell_type": "code",
      "execution_count": 112,
      "metadata": {
        "execution": {
          "iopub.execute_input": "2023-04-30T08:34:01.195165Z",
          "iopub.status.busy": "2023-04-30T08:34:01.194507Z",
          "iopub.status.idle": "2023-04-30T08:34:01.204086Z",
          "shell.execute_reply": "2023-04-30T08:34:01.202988Z",
          "shell.execute_reply.started": "2023-04-30T08:34:01.195123Z"
        },
        "id": "SBYXkQCbU_PT",
        "trusted": true
      },
      "outputs": [],
      "source": [
        "X = preprocessing.scale(X)\n",
        "y = preprocessing.scale(y)"
      ]
    },
    {
      "attachments": {},
      "cell_type": "markdown",
      "metadata": {
        "id": "0GwHCHMlU_PU"
      },
      "source": [
        "# Model Training"
      ]
    },
    {
      "attachments": {},
      "cell_type": "markdown",
      "metadata": {
        "id": "IksGhWU6U_PU"
      },
      "source": [
        "Split the data to training (80%) and testing (20%) parts (5 points)"
      ]
    },
    {
      "cell_type": "code",
      "execution_count": 113,
      "metadata": {
        "execution": {
          "iopub.execute_input": "2023-04-30T08:34:04.739581Z",
          "iopub.status.busy": "2023-04-30T08:34:04.739033Z",
          "iopub.status.idle": "2023-04-30T08:34:04.748932Z",
          "shell.execute_reply": "2023-04-30T08:34:04.747440Z",
          "shell.execute_reply.started": "2023-04-30T08:34:04.739529Z"
        },
        "id": "YAdRX8VVU_PU",
        "trusted": true
      },
      "outputs": [],
      "source": [
        "X_train, X_test, y_train, y_test = train_test_split(X, y, test_size=0.2)"
      ]
    },
    {
      "attachments": {},
      "cell_type": "markdown",
      "metadata": {
        "id": "LMBCL_FAU_PU"
      },
      "source": [
        "# Common Regression Class"
      ]
    },
    {
      "attachments": {},
      "cell_type": "markdown",
      "metadata": {
        "id": "lVm0vp2_U_PU"
      },
      "source": [
        "This is a regression class and you do not need to change its code. You have to fully understand it and then create new classes for rigde and lasso regression which inherit from this class.\n",
        "For initialization you have to specify learning rate, number of iteration, and a regularization object."
      ]
    },
    {
      "cell_type": "code",
      "execution_count": 114,
      "metadata": {
        "execution": {
          "iopub.execute_input": "2023-04-30T08:34:15.970344Z",
          "iopub.status.busy": "2023-04-30T08:34:15.969955Z",
          "iopub.status.idle": "2023-04-30T08:34:15.982914Z",
          "shell.execute_reply": "2023-04-30T08:34:15.981717Z",
          "shell.execute_reply.started": "2023-04-30T08:34:15.970307Z"
        },
        "id": "G-YfrGzAU_PU",
        "trusted": true
      },
      "outputs": [],
      "source": [
        "class Regression:\n",
        "    def __init__(self, learning_rate, iteration, regularization):\n",
        "        \n",
        "        self.N = None # number of samples\n",
        "        self.n = None # number of features\n",
        "        self.w = None # initial weights\n",
        "        self.regularization = regularization # will be the l1/l2 regularization class according to the regression model\n",
        "        self.lr = learning_rate\n",
        "        self.it = iteration\n",
        "\n",
        "    def loss_function(self, y, y_pred):\n",
        "        return (1 / (2*self.N)) * np.sum(np.square(y_pred - y)) + self.regularization(self.w)\n",
        "    \n",
        "    def hypothesis(self, weights, X):\n",
        "        return np.dot(X, weights)\n",
        "\n",
        "    def train(self, X, y):\n",
        "        # Target value should be in the shape of (n, 1) not (n, ).\n",
        "\n",
        "        # Insert constant ones for bias weights.\n",
        "        X = np.insert(X, 0, 1, axis=1)\n",
        "\n",
        "        self.N = X.shape[0]\n",
        "        self.n = X.shape[1]\n",
        "        self.w = np.zeros((self.n , 1))\n",
        "\n",
        "        for it in range(1, self.it+1):\n",
        "            y_pred = self.hypothesis(self.w, X)\n",
        "            cost = self.loss_function(y, y_pred)\n",
        "            dw = (1/self.N) * np.dot(X.T, (y_pred - y)) + self.regularization.derivation(self.w)\n",
        "            self.w = self.w - self.lr * dw\n",
        "\n",
        "            if it % 10 == 0:\n",
        "                print(\"The loss function for the iteration {}----->{} :)\".format(it, cost))\n",
        "        \n",
        "    \n",
        "    def predict(self, test_X):\n",
        "        # Insert constant ones for bias weights.\n",
        "        test_X = np.insert(test_X, 0, 1, axis=1)\n",
        "        y_pred = self.hypothesis(self.w, test_X)\n",
        "        return y_pred"
      ]
    },
    {
      "attachments": {},
      "cell_type": "markdown",
      "metadata": {
        "id": "HE6pCA4MU_PU"
      },
      "source": [
        "# Regularization Classes (20 points)"
      ]
    },
    {
      "attachments": {},
      "cell_type": "markdown",
      "metadata": {
        "id": "101Ics8WU_PU"
      },
      "source": [
        "You have to implement l2/l1 regularization."
      ]
    },
    {
      "cell_type": "code",
      "execution_count": 115,
      "metadata": {
        "execution": {
          "iopub.execute_input": "2023-04-30T08:34:19.277915Z",
          "iopub.status.busy": "2023-04-30T08:34:19.277529Z",
          "iopub.status.idle": "2023-04-30T08:34:19.286725Z",
          "shell.execute_reply": "2023-04-30T08:34:19.285489Z",
          "shell.execute_reply.started": "2023-04-30T08:34:19.277881Z"
        },
        "id": "KkJ1I97gU_PU",
        "trusted": true
      },
      "outputs": [],
      "source": [
        "class l1_regularization:\n",
        "    \"\"\"Regularization used for Lasso Regression\"\"\"\n",
        "    def __init__(self, lamda):\n",
        "        self.lamda = lamda\n",
        "\n",
        "    def __call__(self, weights):\n",
        "        \"This will be returned when we call this class.\"\n",
        "        regularization_term = self.lamda * np.sum(np.abs(weights))\n",
        "        return regularization_term\n",
        "    \n",
        "    def derivation(self, weights):\n",
        "        \"Derivation of the regulariozation function.\"\n",
        "        derivative_term = self.lamda * np.sign(weights)\n",
        "        return derivative_term\n",
        "        \n",
        "\n",
        "\n",
        "class l2_regularization:\n",
        "    \"\"\"Regularization used for Ridge Regression\"\"\"\n",
        "    def __init__(self, lamda):\n",
        "        self.lamda = lamda\n",
        "\n",
        "    def __call__(self, weights):\n",
        "        \"This will be retuned when we call this class.\"\n",
        "        regularization_term = self.lamda * np.sum(np.square(weights))\n",
        "        return regularization_term\n",
        "        \n",
        "    def derivation(self, weights):\n",
        "        \"Derivation of the regulariozation function.\"\n",
        "        derivative_term = 2 * self.lamda * weights\n",
        "        return derivative_term"
      ]
    },
    {
      "attachments": {},
      "cell_type": "markdown",
      "metadata": {
        "id": "MYUC1u_FU_PU"
      },
      "source": [
        "# Lasso Regression from scratch (5 points)"
      ]
    },
    {
      "attachments": {},
      "cell_type": "markdown",
      "metadata": {
        "id": "UxjF4g7rU_PU"
      },
      "source": [
        "Train a lasso regression model using your own code and the following class."
      ]
    },
    {
      "cell_type": "code",
      "execution_count": 116,
      "metadata": {
        "execution": {
          "iopub.execute_input": "2023-04-30T08:34:23.922713Z",
          "iopub.status.busy": "2023-04-30T08:34:23.921661Z",
          "iopub.status.idle": "2023-04-30T08:34:23.928316Z",
          "shell.execute_reply": "2023-04-30T08:34:23.927223Z",
          "shell.execute_reply.started": "2023-04-30T08:34:23.922672Z"
        },
        "id": "Zl180mzhU_PU",
        "trusted": true
      },
      "outputs": [],
      "source": [
        "class LassoRegression(Regression):\n",
        "    def __init__(self, lamda, learning_rate, iteration):\n",
        "        self.regularization = l1_regularization(lamda)\n",
        "        super(LassoRegression, self).__init__(learning_rate, iteration, self.regularization)"
      ]
    },
    {
      "cell_type": "code",
      "execution_count": 155,
      "metadata": {
        "execution": {
          "iopub.execute_input": "2023-04-30T08:34:43.634909Z",
          "iopub.status.busy": "2023-04-30T08:34:43.634507Z",
          "iopub.status.idle": "2023-04-30T08:34:43.669074Z",
          "shell.execute_reply": "2023-04-30T08:34:43.667346Z",
          "shell.execute_reply.started": "2023-04-30T08:34:43.634873Z"
        },
        "id": "Vm0z4ECLU_PV",
        "trusted": true
      },
      "outputs": [
        {
          "name": "stdout",
          "output_type": "stream",
          "text": [
            "The loss function for the iteration 10----->0.30599204473900365 :)\n",
            "The loss function for the iteration 20----->0.23441582616344986 :)\n",
            "The loss function for the iteration 30----->0.2046935793524749 :)\n",
            "The loss function for the iteration 40----->0.18952511364837815 :)\n",
            "The loss function for the iteration 50----->0.18055851881339613 :)\n",
            "The loss function for the iteration 60----->0.1742918594065134 :)\n",
            "The loss function for the iteration 70----->0.16979837301377781 :)\n",
            "The loss function for the iteration 80----->0.16665066529732192 :)\n",
            "The loss function for the iteration 90----->0.16387004613694983 :)\n",
            "The loss function for the iteration 100----->0.16178861157400387 :)\n",
            "The loss function for the iteration 110----->0.1601660770941958 :)\n",
            "The loss function for the iteration 120----->0.15869248797619845 :)\n",
            "The loss function for the iteration 130----->0.15743960169242405 :)\n",
            "The loss function for the iteration 140----->0.15630830264299905 :)\n",
            "The loss function for the iteration 150----->0.15541217231061571 :)\n",
            "The loss function for the iteration 160----->0.1545495320978697 :)\n",
            "The loss function for the iteration 170----->0.15370718578444947 :)\n",
            "The loss function for the iteration 180----->0.1530871341906499 :)\n",
            "The loss function for the iteration 190----->0.15255716383542897 :)\n",
            "The loss function for the iteration 200----->0.15199709816207255 :)\n",
            "The loss function for the iteration 210----->0.1517243595493142 :)\n",
            "The loss function for the iteration 220----->0.15137069970613043 :)\n",
            "The loss function for the iteration 230----->0.15106922078471757 :)\n",
            "The loss function for the iteration 240----->0.1508866456931087 :)\n",
            "The loss function for the iteration 250----->0.150512232957626 :)\n",
            "The loss function for the iteration 260----->0.15035338606962592 :)\n",
            "The loss function for the iteration 270----->0.150320368596557 :)\n",
            "The loss function for the iteration 280----->0.15005120014701948 :)\n",
            "The loss function for the iteration 290----->0.14994191887072902 :)\n",
            "The loss function for the iteration 300----->0.14972149139642674 :)\n",
            "The loss function for the iteration 310----->0.14963456935143257 :)\n",
            "The loss function for the iteration 320----->0.1496825204069424 :)\n",
            "The loss function for the iteration 330----->0.1494247324659972 :)\n",
            "The loss function for the iteration 340----->0.1494001162637601 :)\n",
            "The loss function for the iteration 350----->0.14934251657150677 :)\n",
            "The loss function for the iteration 360----->0.1494784651788697 :)\n",
            "The loss function for the iteration 370----->0.14925963521526325 :)\n",
            "The loss function for the iteration 380----->0.14919559462713003 :)\n",
            "The loss function for the iteration 390----->0.1492110482308773 :)\n",
            "The loss function for the iteration 400----->0.14910587201835218 :)\n",
            "The loss function for the iteration 410----->0.14909608989184478 :)\n",
            "The loss function for the iteration 420----->0.14907534884857004 :)\n",
            "The loss function for the iteration 430----->0.14908695669979363 :)\n",
            "The loss function for the iteration 440----->0.14905505957066367 :)\n",
            "The loss function for the iteration 450----->0.14911982210203847 :)\n",
            "The loss function for the iteration 460----->0.14919379935579713 :)\n",
            "The loss function for the iteration 470----->0.14901692098090286 :)\n",
            "The loss function for the iteration 480----->0.14909520701642265 :)\n",
            "The loss function for the iteration 490----->0.14895524426685058 :)\n",
            "The loss function for the iteration 500----->0.14904904965203417 :)\n",
            "The loss function for the iteration 510----->0.14907405745347221 :)\n",
            "The loss function for the iteration 520----->0.1491038808193269 :)\n",
            "The loss function for the iteration 530----->0.1489248884446462 :)\n",
            "The loss function for the iteration 540----->0.14882061695049953 :)\n",
            "The loss function for the iteration 550----->0.1489247151439472 :)\n",
            "The loss function for the iteration 560----->0.1490045803437472 :)\n",
            "The loss function for the iteration 570----->0.14919539432403867 :)\n",
            "The loss function for the iteration 580----->0.14882509802445132 :)\n",
            "The loss function for the iteration 590----->0.14893489760560102 :)\n",
            "The loss function for the iteration 600----->0.1490426622302039 :)\n",
            "The loss function for the iteration 610----->0.14891030638223202 :)\n",
            "The loss function for the iteration 620----->0.14892667093869 :)\n",
            "The loss function for the iteration 630----->0.14892223914877117 :)\n",
            "The loss function for the iteration 640----->0.14890706278547433 :)\n",
            "The loss function for the iteration 650----->0.14890160899436347 :)\n",
            "The loss function for the iteration 660----->0.14882042315229158 :)\n",
            "The loss function for the iteration 670----->0.14904975200139076 :)\n",
            "The loss function for the iteration 680----->0.1488390661781716 :)\n",
            "The loss function for the iteration 690----->0.14901825990827017 :)\n",
            "The loss function for the iteration 700----->0.14906320850342758 :)\n"
          ]
        }
      ],
      "source": [
        "lasso_regression = LassoRegression(lamda=0.05, learning_rate=0.01, iteration=700)\n",
        "lasso_regression.train(X_train, y_train.reshape(-1, 1))"
      ]
    },
    {
      "attachments": {},
      "cell_type": "markdown",
      "metadata": {
        "id": "gxeSokECU_PW"
      },
      "source": [
        "# Lasso Regression using skicit-learn (5 points)"
      ]
    },
    {
      "attachments": {},
      "cell_type": "markdown",
      "metadata": {
        "id": "LjkaQEKlU_PW"
      },
      "source": [
        "Use `sklearn` to train a Lasso Regression Model. To determine the best regularization coefficients, use grid-search (or other techniques you've learned till now)."
      ]
    },
    {
      "cell_type": "code",
      "execution_count": 134,
      "metadata": {
        "execution": {
          "iopub.execute_input": "2023-04-30T08:35:17.375634Z",
          "iopub.status.busy": "2023-04-30T08:35:17.374562Z",
          "iopub.status.idle": "2023-04-30T08:35:17.403838Z",
          "shell.execute_reply": "2023-04-30T08:35:17.401840Z",
          "shell.execute_reply.started": "2023-04-30T08:35:17.375589Z"
        },
        "id": "Q1fX_s6aU_PW",
        "trusted": true
      },
      "outputs": [
        {
          "data": {
            "text/plain": [
              "GridSearchCV(cv=5, estimator=Lasso(),\n",
              "             param_grid={'alpha': [0.1, 0.5, 1, 5, 10, 50, 100]},\n",
              "             scoring='neg_mean_squared_error')"
            ]
          },
          "execution_count": 134,
          "metadata": {},
          "output_type": "execute_result"
        }
      ],
      "source": [
        "lasso = Lasso()\n",
        "parameters = {'alpha': [0.1, 0.5, 1, 5, 10, 50, 100]}\n",
        "lasso_regressor = GridSearchCV(lasso, parameters, scoring='neg_mean_squared_error', cv=5)\n",
        "lasso_regressor.fit(X_train, y_train)"
      ]
    },
    {
      "attachments": {},
      "cell_type": "markdown",
      "metadata": {
        "id": "6vHBMK9pU_PW"
      },
      "source": [
        "# Ridge Regression From scratch (5 points)"
      ]
    },
    {
      "attachments": {},
      "cell_type": "markdown",
      "metadata": {
        "id": "qkmTdCqlU_PW"
      },
      "source": [
        "Train a ridge regression model using your own code and the following class."
      ]
    },
    {
      "cell_type": "code",
      "execution_count": 119,
      "metadata": {
        "execution": {
          "iopub.execute_input": "2023-04-30T08:35:21.763364Z",
          "iopub.status.busy": "2023-04-30T08:35:21.762634Z",
          "iopub.status.idle": "2023-04-30T08:35:21.769134Z",
          "shell.execute_reply": "2023-04-30T08:35:21.768198Z",
          "shell.execute_reply.started": "2023-04-30T08:35:21.763321Z"
        },
        "id": "ueIbohzQU_PW",
        "trusted": true
      },
      "outputs": [],
      "source": [
        "class RidgeRegression(Regression):\n",
        "    def __init__(self, lamda, learning_rate, iteration):\n",
        "        self.regularization = l2_regularization(lamda)\n",
        "        super(RidgeRegression, self).__init__(learning_rate, iteration, self.regularization)"
      ]
    },
    {
      "cell_type": "code",
      "execution_count": 157,
      "metadata": {
        "execution": {
          "iopub.execute_input": "2023-04-30T08:36:39.759679Z",
          "iopub.status.busy": "2023-04-30T08:36:39.759220Z",
          "iopub.status.idle": "2023-04-30T08:36:39.803215Z",
          "shell.execute_reply": "2023-04-30T08:36:39.801482Z",
          "shell.execute_reply.started": "2023-04-30T08:36:39.759636Z"
        },
        "id": "Ows-DOCFU_PW",
        "trusted": true
      },
      "outputs": [
        {
          "name": "stdout",
          "output_type": "stream",
          "text": [
            "The loss function for the iteration 10----->0.23470637865014468 :)\n",
            "The loss function for the iteration 20----->0.13572588246074266 :)\n",
            "The loss function for the iteration 30----->0.09490437829125216 :)\n",
            "The loss function for the iteration 40----->0.07370423227234102 :)\n",
            "The loss function for the iteration 50----->0.06087294365734402 :)\n",
            "The loss function for the iteration 60----->0.05240031338797829 :)\n",
            "The loss function for the iteration 70----->0.04650513953715855 :)\n",
            "The loss function for the iteration 80----->0.04224865250674413 :)\n",
            "The loss function for the iteration 90----->0.0390817710005401 :)\n",
            "The loss function for the iteration 100----->0.03666359385400525 :)\n",
            "The loss function for the iteration 110----->0.03477423987608389 :)\n",
            "The loss function for the iteration 120----->0.03326769335464448 :)\n",
            "The loss function for the iteration 130----->0.0320444950252826 :)\n",
            "The loss function for the iteration 140----->0.031035285683573423 :)\n",
            "The loss function for the iteration 150----->0.030190619263350836 :)\n",
            "The loss function for the iteration 160----->0.029474517335434578 :)\n",
            "The loss function for the iteration 170----->0.028860307278610838 :)\n",
            "The loss function for the iteration 180----->0.028327880647607974 :)\n",
            "The loss function for the iteration 190----->0.027861850426729732 :)\n",
            "The loss function for the iteration 200----->0.02745028736244236 :)\n",
            "The loss function for the iteration 210----->0.027083836193375423 :)\n",
            "The loss function for the iteration 220----->0.026755085808099714 :)\n",
            "The loss function for the iteration 230----->0.026458112378679614 :)\n",
            "The loss function for the iteration 240----->0.02618814256641153 :)\n",
            "The loss function for the iteration 250----->0.025941301615240907 :)\n",
            "The loss function for the iteration 260----->0.025714422508092742 :)\n",
            "The loss function for the iteration 270----->0.0255048997591187 :)\n",
            "The loss function for the iteration 280----->0.025310576312671886 :)\n",
            "The loss function for the iteration 290----->0.025129655318428576 :)\n",
            "The loss function for the iteration 300----->0.024960630812537257 :)\n",
            "The loss function for the iteration 310----->0.024802232910606434 :)\n",
            "The loss function for the iteration 320----->0.02465338423549855 :)\n",
            "The loss function for the iteration 330----->0.024513165107415878 :)\n",
            "The loss function for the iteration 340----->0.024380785611654913 :)\n",
            "The loss function for the iteration 350----->0.024255563094732636 :)\n",
            "The loss function for the iteration 360----->0.024136903965786265 :)\n",
            "The loss function for the iteration 370----->0.024024288927145813 :)\n",
            "The loss function for the iteration 380----->0.023917260946725492 :)\n",
            "The loss function for the iteration 390----->0.023815415430266065 :)\n",
            "The loss function for the iteration 400----->0.023718392164222744 :)\n",
            "The loss function for the iteration 410----->0.023625868688078012 :)\n",
            "The loss function for the iteration 420----->0.02353755482386933 :)\n",
            "The loss function for the iteration 430----->0.023453188145096254 :)\n",
            "The loss function for the iteration 440----->0.023372530210187575 :)\n",
            "The loss function for the iteration 450----->0.023295363419859338 :)\n",
            "The loss function for the iteration 460----->0.023221488384894018 :)\n",
            "The loss function for the iteration 470----->0.02315072171259642 :)\n",
            "The loss function for the iteration 480----->0.023082894137580794 :)\n",
            "The loss function for the iteration 490----->0.023017848936511626 :)\n",
            "The loss function for the iteration 500----->0.022955440577659764 :)\n",
            "The loss function for the iteration 510----->0.022895533565198252 :)\n",
            "The loss function for the iteration 520----->0.022838001445484885 :)\n",
            "The loss function for the iteration 530----->0.022782725948506714 :)\n",
            "The loss function for the iteration 540----->0.0227295962424703 :)\n",
            "The loss function for the iteration 550----->0.022678508283428513 :)\n",
            "The loss function for the iteration 560----->0.022629364245015687 :)\n",
            "The loss function for the iteration 570----->0.022582072015956703 :)\n",
            "The loss function for the iteration 580----->0.022536544755134884 :)\n",
            "The loss function for the iteration 590----->0.02249270049573782 :)\n",
            "The loss function for the iteration 600----->0.022450461791422256 :)\n",
            "The loss function for the iteration 610----->0.02240975539860713 :)\n",
            "The loss function for the iteration 620----->0.022370511989964835 :)\n",
            "The loss function for the iteration 630----->0.022332665894973288 :)\n",
            "The loss function for the iteration 640----->0.022296154864045563 :)\n",
            "The loss function for the iteration 650----->0.022260919853295806 :)\n",
            "The loss function for the iteration 660----->0.022226904827449292 :)\n",
            "The loss function for the iteration 670----->0.022194056578777606 :)\n",
            "The loss function for the iteration 680----->0.022162324560251367 :)\n",
            "The loss function for the iteration 690----->0.02213166073136204 :)\n",
            "The loss function for the iteration 700----->0.022102019415282073 :)\n"
          ]
        }
      ],
      "source": [
        "ridge_regression = RidgeRegression(lamda=0.01, learning_rate=0.01, iteration=700)\n",
        "ridge_regression.train(X_train, y_train.reshape(-1, 1))\n"
      ]
    },
    {
      "attachments": {},
      "cell_type": "markdown",
      "metadata": {
        "id": "etHAUbz3U_PW"
      },
      "source": [
        "# Ridge Regression using scikit-learn (5 points)"
      ]
    },
    {
      "attachments": {},
      "cell_type": "markdown",
      "metadata": {
        "id": "-CHPali0U_PW"
      },
      "source": [
        "Use `sklearn` to train a Ridge Regression Model. To determine the best regularization coefficients, use grid-search (or other techniques you've learned till now)."
      ]
    },
    {
      "cell_type": "code",
      "execution_count": 132,
      "metadata": {
        "execution": {
          "iopub.execute_input": "2023-04-30T08:37:26.807683Z",
          "iopub.status.busy": "2023-04-30T08:37:26.807262Z",
          "iopub.status.idle": "2023-04-30T08:37:26.832283Z",
          "shell.execute_reply": "2023-04-30T08:37:26.830639Z",
          "shell.execute_reply.started": "2023-04-30T08:37:26.807621Z"
        },
        "id": "IJY3TMVAU_PW",
        "trusted": true
      },
      "outputs": [
        {
          "data": {
            "text/plain": [
              "{'alpha': 5}"
            ]
          },
          "execution_count": 132,
          "metadata": {},
          "output_type": "execute_result"
        }
      ],
      "source": [
        "ridge = Ridge()\n",
        "parameters = {'alpha': [0.1, 0.5, 1, 5, 10, 50, 100]}\n",
        "ridge_regressor = GridSearchCV(ridge, parameters, scoring='neg_mean_squared_error', cv=5)\n",
        "ridge_regressor.fit(X_train, y_train)\n",
        "ridge_regressor.best_params_"
      ]
    },
    {
      "attachments": {},
      "cell_type": "markdown",
      "metadata": {
        "id": "bRGCZENmU_PW"
      },
      "source": [
        "# Evaluation (15 points)"
      ]
    },
    {
      "attachments": {},
      "cell_type": "markdown",
      "metadata": {
        "id": "1KGVuWJUU_PW"
      },
      "source": [
        "For each model (the 2 models trained using `sklearn` and the ones based on your code), predict the output for the testing samples."
      ]
    },
    {
      "cell_type": "code",
      "execution_count": 137,
      "metadata": {
        "execution": {
          "iopub.execute_input": "2023-04-30T08:37:34.818097Z",
          "iopub.status.busy": "2023-04-30T08:37:34.817713Z",
          "iopub.status.idle": "2023-04-30T08:37:34.828388Z",
          "shell.execute_reply": "2023-04-30T08:37:34.826441Z",
          "shell.execute_reply.started": "2023-04-30T08:37:34.818063Z"
        },
        "id": "JWkNVRW7U_PW",
        "trusted": true
      },
      "outputs": [],
      "source": [
        "y_pred_lasso_custom = lasso_regression.predict(X_test)\n",
        "y_pred_lasso_sklearn = lasso_regressor.best_estimator_.predict(X_test)\n",
        "y_pred_ridge_custom = ridge_regression.predict(X_test)\n",
        "y_pred_ridge_sklearn = ridge_regressor.best_estimator_.predict(X_test)"
      ]
    },
    {
      "attachments": {},
      "cell_type": "markdown",
      "metadata": {
        "id": "jm-OLTTvU_PX"
      },
      "source": [
        "Measure the performance of the models based on \"mean squared error\" and the \"coefficient of determination\" of the prediction."
      ]
    },
    {
      "cell_type": "code",
      "execution_count": 138,
      "metadata": {
        "execution": {
          "iopub.execute_input": "2023-04-30T08:37:38.137975Z",
          "iopub.status.busy": "2023-04-30T08:37:38.137503Z",
          "iopub.status.idle": "2023-04-30T08:37:38.147255Z",
          "shell.execute_reply": "2023-04-30T08:37:38.145677Z",
          "shell.execute_reply.started": "2023-04-30T08:37:38.137931Z"
        },
        "id": "-MqKWn_WU_PX",
        "trusted": true
      },
      "outputs": [
        {
          "name": "stdout",
          "output_type": "stream",
          "text": [
            "Lasso Regression (custom) Mean squared error: 0.23\n",
            "Lasso Regression (custom) Coefficient of determination: 0.78\n",
            "Lasso Regression (sklearn) Mean squared error: 0.23\n",
            "Lasso Regression (sklearn) Coefficient of determination: 0.78\n",
            "Ridge Regression (custom) Mean squared error: 0.57\n",
            "Ridge Regression (custom) Coefficient of determination: 0.46\n",
            "Ridge Regression (sklearn) Mean squared error: 0.05\n",
            "Ridge Regression (sklearn) Coefficient of determination: 0.95\n"
          ]
        }
      ],
      "source": [
        "print(\"Lasso Regression (custom) Mean squared error: %.2f\" % mean_squared_error(y_test.reshape(-1, 1), y_pred_lasso_custom))\n",
        "print(\"Lasso Regression (custom) Coefficient of determination: %.2f\" % r2_score(y_test.reshape(-1, 1), y_pred_lasso_custom))\n",
        "print(\"Lasso Regression (sklearn) Mean squared error: %.2f\" % mean_squared_error(y_test.reshape(-1, 1), y_pred_lasso_sklearn.reshape(-1, 1)))\n",
        "print(\"Lasso Regression (sklearn) Coefficient of determination: %.2f\" % r2_score(y_test.reshape(-1, 1), y_pred_lasso_sklearn.reshape(-1, 1)))\n",
        "print(\"Ridge Regression (custom) Mean squared error: %.2f\" % mean_squared_error(y_test.reshape(-1, 1), y_pred_ridge_custom))\n",
        "print(\"Ridge Regression (custom) Coefficient of determination: %.2f\" % r2_score(y_test.reshape(-1, 1), y_pred_ridge_custom))\n",
        "print(\"Ridge Regression (sklearn) Mean squared error: %.2f\" % mean_squared_error(y_test.reshape(-1, 1), y_pred_ridge_sklearn.reshape(-1, 1)))\n",
        "print(\"Ridge Regression (sklearn) Coefficient of determination: %.2f\" % r2_score(y_test.reshape(-1, 1), y_pred_ridge_sklearn.reshape(-1, 1)))"
      ]
    },
    {
      "attachments": {},
      "cell_type": "markdown",
      "metadata": {
        "id": "RKvQNxCBd4bH"
      },
      "source": [
        "# Kaggle"
      ]
    },
    {
      "attachments": {},
      "cell_type": "markdown",
      "metadata": {
        "id": "SWVaPC-Yd6yb"
      },
      "source": [
        "Competition Link: https://www.kaggle.com/t/adbf95666e7c4f41a6be1129a9e4415c"
      ]
    },
    {
      "cell_type": "code",
      "execution_count": 158,
      "metadata": {},
      "outputs": [
        {
          "name": "stderr",
          "output_type": "stream",
          "text": [
            "C:\\Users\\kian\\AppData\\Local\\Temp/ipykernel_31496/535281170.py:4: FutureWarning: Dropping of nuisance columns in DataFrame reductions (with 'numeric_only=None') is deprecated; in a future version this will raise TypeError.  Select only valid columns before calling the reduction.\n",
            "  competition_df.fillna(competition_df.mean(), inplace=True)\n"
          ]
        }
      ],
      "source": [
        "competition_df = pd.read_csv('./assignment5-test-data.csv')\n",
        "id_column = competition_df['ID']\n",
        "competition_df = competition_df.drop(['ID'], axis=1)\n",
        "competition_df.fillna(competition_df.mean(), inplace=True)\n",
        "competition_df = pd.get_dummies(competition_df, columns=['Status', 'Country'])\n",
        "training_columns = df.drop(['Life expectancy '], axis=1).columns\n",
        "for column in training_columns:\n",
        "    if column not in competition_df.columns:\n",
        "        competition_df[column] = 0\n",
        "for column in competition_df.columns:\n",
        "    if column not in training_columns:\n",
        "        competition_df = competition_df.drop([column], axis=1)\n",
        "competition_df = preprocessing.scale(competition_df)\n",
        "y_pred_competition = lasso_regression.predict(competition_df).reshape(-1,)\n",
        "y_pred_competition = y_pred_competition * df['Life expectancy '].std() + df['Life expectancy '].mean()\n",
        "final_df = pd.DataFrame({'Life expectancy': y_pred_competition, 'ID': id_column})\n",
        "final_df.to_csv('submission.csv', index=False)"
      ]
    }
  ],
  "metadata": {
    "colab": {
      "provenance": []
    },
    "kernelspec": {
      "display_name": "Python 3",
      "language": "python",
      "name": "python3"
    },
    "language_info": {
      "codemirror_mode": {
        "name": "ipython",
        "version": 3
      },
      "file_extension": ".py",
      "mimetype": "text/x-python",
      "name": "python",
      "nbconvert_exporter": "python",
      "pygments_lexer": "ipython3",
      "version": "3.8.10"
    }
  },
  "nbformat": 4,
  "nbformat_minor": 0
}
