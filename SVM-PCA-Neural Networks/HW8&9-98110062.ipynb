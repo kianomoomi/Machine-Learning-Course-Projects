{
  "cells": [
    {
      "cell_type": "markdown",
      "metadata": {
        "id": "b07eb33c"
      },
      "source": [
        "<div>\n",
        "<img src='https://upload.wikimedia.org/wikipedia/commons/6/64/Sharif_University_Logo.jpg' alt=\"SUT logo\" width=220 height=220 align=left class=\"saturate\">\n",
        "\n",
        "<br>\n",
        "<font face=\"Times New Roman\">\n",
        "<div dir=ltr align=center>\n",
        "<!-- <font color=0F5298 size=7> -->\n",
        "<font color=0F5298 size=6>\n",
        "    Introduction to Machine Learning <br> <br>\n",
        "<!-- <font color=2565AE size=5> -->\n",
        "<font size=5>\n",
        "    Computer Engineering Department <br>\n",
        "    Spring 2023 <br> <br>\n",
        "<font color=606060 size=5>\n",
        "    Homeworks 8 & 9 (Combined): Practical - Faces <br> <br>\n",
        "<font color=686880 size=4>\n",
        "    TAs: Arman Malekzadeh - Amirhossein Ramazani Bonab - Yalda Shabanzadeh\n",
        "    \n",
        "____"
      ]
    },
    {
      "cell_type": "markdown",
      "metadata": {
        "id": "f5a79508"
      },
      "source": [
        "### Full Name : Kian Omoomi\n",
        "### Student Number : 98110062\n",
        "### Colab Link: https://colab.research.google.com/drive/1n2LBB0iSdINNYwQfyLTeqGoyNQG_D3t7?usp=sharing\n",
        "___"
      ]
    },
    {
      "cell_type": "markdown",
      "metadata": {
        "id": "QCHy_MoXZJXG"
      },
      "source": [
        "In this assignment, you'll be dealing with a dataset consisting of 400 faces, belonging to 40 people. Your main task is to train models capable of recognizing those faces.\n",
        "The faces are `jpg` images packed together as a zip file called `images.zip`, and the `meta.csv` determines from which person each image was taken."
      ]
    },
    {
      "cell_type": "code",
      "execution_count": 1,
      "metadata": {
        "id": "aZE1y9wJY1Ex",
        "colab": {
          "base_uri": "https://localhost:8080/"
        },
        "outputId": "dc56020e-7746-40b6-903e-0a8fbde5fbb5"
      },
      "outputs": [
        {
          "output_type": "stream",
          "name": "stdout",
          "text": [
            "--2023-06-27 12:57:45--  https://www.dropbox.com/s/wrias0bjyte3rr2/images.zip?dl=1\n",
            "Resolving www.dropbox.com (www.dropbox.com)... 162.125.65.18, 2620:100:6021:18::a27d:4112\n",
            "Connecting to www.dropbox.com (www.dropbox.com)|162.125.65.18|:443... connected.\n",
            "HTTP request sent, awaiting response... 302 Found\n",
            "Location: /s/dl/wrias0bjyte3rr2/images.zip [following]\n",
            "--2023-06-27 12:57:45--  https://www.dropbox.com/s/dl/wrias0bjyte3rr2/images.zip\n",
            "Reusing existing connection to www.dropbox.com:443.\n",
            "HTTP request sent, awaiting response... 302 Found\n",
            "Location: https://uc7fdc1ea858b1814b9be13c78e7.dl.dropboxusercontent.com/cd/0/get/B-xEUmOmzvRdhUq8Y_uiruRm3s1hWzJss-aRX43gS615LdBy6HGu1Hl8nVVIeyiW45cYjg_Q_an3JW54w56j7cCeo6RKePnEuF7MdJuVh7PsLkJH9AUhDnU6WZ-43NSfl5I4melrFCy7A-v5kGHBigvhCPPHmGe1FEhuMJf-VlSztx7VrYtJ4wltrQ5-Gx986GI/file?dl=1# [following]\n",
            "--2023-06-27 12:57:46--  https://uc7fdc1ea858b1814b9be13c78e7.dl.dropboxusercontent.com/cd/0/get/B-xEUmOmzvRdhUq8Y_uiruRm3s1hWzJss-aRX43gS615LdBy6HGu1Hl8nVVIeyiW45cYjg_Q_an3JW54w56j7cCeo6RKePnEuF7MdJuVh7PsLkJH9AUhDnU6WZ-43NSfl5I4melrFCy7A-v5kGHBigvhCPPHmGe1FEhuMJf-VlSztx7VrYtJ4wltrQ5-Gx986GI/file?dl=1\n",
            "Resolving uc7fdc1ea858b1814b9be13c78e7.dl.dropboxusercontent.com (uc7fdc1ea858b1814b9be13c78e7.dl.dropboxusercontent.com)... 162.125.70.15, 2620:100:601d:15::a27d:50f\n",
            "Connecting to uc7fdc1ea858b1814b9be13c78e7.dl.dropboxusercontent.com (uc7fdc1ea858b1814b9be13c78e7.dl.dropboxusercontent.com)|162.125.70.15|:443... connected.\n",
            "HTTP request sent, awaiting response... 200 OK\n",
            "Length: 506158 (494K) [application/binary]\n",
            "Saving to: ‘images.zip’\n",
            "\n",
            "images.zip          100%[===================>] 494.29K  --.-KB/s    in 0.1s    \n",
            "\n",
            "2023-06-27 12:57:46 (3.76 MB/s) - ‘images.zip’ saved [506158/506158]\n",
            "\n",
            "--2023-06-27 12:57:46--  https://www.dropbox.com/s/vqt1v8sfmz18rcf/faces-metadata.csv?dl=1\n",
            "Resolving www.dropbox.com (www.dropbox.com)... 162.125.65.18, 2620:100:6021:18::a27d:4112\n",
            "Connecting to www.dropbox.com (www.dropbox.com)|162.125.65.18|:443... connected.\n",
            "HTTP request sent, awaiting response... 302 Found\n",
            "Location: /s/dl/vqt1v8sfmz18rcf/faces-metadata.csv [following]\n",
            "--2023-06-27 12:57:47--  https://www.dropbox.com/s/dl/vqt1v8sfmz18rcf/faces-metadata.csv\n",
            "Reusing existing connection to www.dropbox.com:443.\n",
            "HTTP request sent, awaiting response... 302 Found\n",
            "Location: https://uc1e9b97c49ce1f6646a8f2f97b0.dl.dropboxusercontent.com/cd/0/get/B-xDZsEpB-uNMWd7_JDjwfQ6PjXwdBvF0AtAo94tLPLDoY-lr0jyMaqWC6GwXn718ufRdYRj77gaCaGFX-tcBYJOgoi7tYqe52x8whf46LU0LpK3RuaWAEpQpVEXaMUONQcOK5coiSN0DmCtXlT8QcyG9S3vY_2G9f1iVsZirfm1yb8KKlHddUjcSUjxzAKtZ7E/file?dl=1# [following]\n",
            "--2023-06-27 12:57:47--  https://uc1e9b97c49ce1f6646a8f2f97b0.dl.dropboxusercontent.com/cd/0/get/B-xDZsEpB-uNMWd7_JDjwfQ6PjXwdBvF0AtAo94tLPLDoY-lr0jyMaqWC6GwXn718ufRdYRj77gaCaGFX-tcBYJOgoi7tYqe52x8whf46LU0LpK3RuaWAEpQpVEXaMUONQcOK5coiSN0DmCtXlT8QcyG9S3vY_2G9f1iVsZirfm1yb8KKlHddUjcSUjxzAKtZ7E/file?dl=1\n",
            "Resolving uc1e9b97c49ce1f6646a8f2f97b0.dl.dropboxusercontent.com (uc1e9b97c49ce1f6646a8f2f97b0.dl.dropboxusercontent.com)... 162.125.65.15, 2620:100:6021:15::a27d:410f\n",
            "Connecting to uc1e9b97c49ce1f6646a8f2f97b0.dl.dropboxusercontent.com (uc1e9b97c49ce1f6646a8f2f97b0.dl.dropboxusercontent.com)|162.125.65.15|:443... connected.\n",
            "HTTP request sent, awaiting response... 200 OK\n",
            "Length: 5891 (5.8K) [application/binary]\n",
            "Saving to: ‘meta.csv’\n",
            "\n",
            "meta.csv            100%[===================>]   5.75K  --.-KB/s    in 0s      \n",
            "\n",
            "2023-06-27 12:57:47 (587 MB/s) - ‘meta.csv’ saved [5891/5891]\n",
            "\n"
          ]
        }
      ],
      "source": [
        "!wget -O images.zip https://www.dropbox.com/s/wrias0bjyte3rr2/images.zip?dl=1\n",
        "!wget -O meta.csv https://www.dropbox.com/s/vqt1v8sfmz18rcf/faces-metadata.csv?dl=1"
      ]
    },
    {
      "cell_type": "code",
      "execution_count": 2,
      "metadata": {
        "id": "6_7895lFnun2"
      },
      "outputs": [],
      "source": [
        "# you can use the following packages\n",
        "from PIL import Image\n",
        "import numpy as np\n",
        "import pandas as pd\n",
        "from sklearn.preprocessing import LabelEncoder\n",
        "from sklearn.model_selection import train_test_split\n",
        "import tensorflow as tf\n",
        "from tensorflow import keras\n",
        "from tensorflow.keras import layers\n",
        "from sklearn.cluster import KMeans\n",
        "from sklearn.decomposition import TruncatedSVD\n",
        "import plotly.express as px"
      ]
    },
    {
      "cell_type": "markdown",
      "metadata": {
        "id": "rOuCpoXVxYAc"
      },
      "source": [
        "# Sec 1: Data Preparation"
      ]
    },
    {
      "cell_type": "code",
      "source": [
        "from google.colab import drive\n",
        "drive.mount('/content/gdrive')"
      ],
      "metadata": {
        "colab": {
          "base_uri": "https://localhost:8080/"
        },
        "id": "nNnLotKgALSX",
        "outputId": "a0b92042-47ad-40f2-9ed1-36a32043bb96"
      },
      "execution_count": 5,
      "outputs": [
        {
          "output_type": "stream",
          "name": "stdout",
          "text": [
            "Mounted at /content/gdrive\n"
          ]
        }
      ]
    },
    {
      "cell_type": "markdown",
      "metadata": {
        "id": "D67J4M0lnD62"
      },
      "source": [
        "Load all images as a numpy array (called `x`) and the metadata as a dataframe **(P1-1: 25 points)**"
      ]
    },
    {
      "cell_type": "code",
      "execution_count": 7,
      "metadata": {
        "id": "J1a0H7bPQRZA"
      },
      "outputs": [],
      "source": [
        "x = []\n",
        "for i in range(400):\n",
        "    image = np.array(Image.open(f'/content/gdrive/MyDrive/img-data/{i}.jpg'))\n",
        "    x.append(image)\n",
        "x = np.array(x)\n",
        "df = pd.read_csv('./meta.csv')"
      ]
    },
    {
      "cell_type": "markdown",
      "metadata": {
        "id": "Bllz0xnSn6Gv"
      },
      "source": [
        "Flatten and normalize the images **(P1-2: 10 points)**\n",
        "\n",
        "Note: For this part, normalization only means dividing by 255."
      ]
    },
    {
      "cell_type": "code",
      "execution_count": 8,
      "metadata": {
        "id": "mcAT92tIvMk_"
      },
      "outputs": [],
      "source": [
        "x = x.reshape(x.shape[0], -1)\n",
        "x = x.astype('float32') / 255."
      ]
    },
    {
      "cell_type": "markdown",
      "metadata": {
        "id": "ZyXQqbNLuAJg"
      },
      "source": [
        "Encode the labels using `LabelEncoder` and save the result as a numpy array called `y` **(P1-3: 5 points)**"
      ]
    },
    {
      "cell_type": "code",
      "execution_count": 9,
      "metadata": {
        "id": "rz1_cg3ipHLE"
      },
      "outputs": [],
      "source": [
        "le = LabelEncoder()\n",
        "y = np.array(le.fit_transform(df['label']))"
      ]
    },
    {
      "cell_type": "markdown",
      "metadata": {
        "id": "o4yGbT6HuDks"
      },
      "source": [
        "Split the data into training (80%), validation (10%), and testing (10%) parts. **(P1-4: 10 points)**\n",
        "\n",
        "Note: The split procedure should maintain the class balance. This is sometimes called \"[stratified sampling](https://en.wikipedia.org/wiki/Stratified_sampling)\"."
      ]
    },
    {
      "cell_type": "code",
      "execution_count": 18,
      "metadata": {
        "id": "MtOoeS0ewOye"
      },
      "outputs": [],
      "source": [
        "X_train, X_test, y_train, y_test = train_test_split(x, y, test_size=0.2, stratify=y)\n",
        "X_test, X_val, y_test, y_val = train_test_split(X_test, y_test, test_size=0.5, stratify=y_test)"
      ]
    },
    {
      "cell_type": "markdown",
      "metadata": {
        "id": "G8YV5obFxgmr"
      },
      "source": [
        "# Sec 2: SVM"
      ]
    },
    {
      "cell_type": "markdown",
      "metadata": {
        "id": "ZhlriGrP1T9q"
      },
      "source": [
        "## Subsec 2.1."
      ]
    },
    {
      "cell_type": "markdown",
      "metadata": {
        "id": "5n0SLDtE0vih"
      },
      "source": [
        "Train a SVM using `sklearn`. Note that the hyperparameter tuning should be done using the \"validation\" set. **(P2-1-1: 20 points)**"
      ]
    },
    {
      "cell_type": "code",
      "execution_count": 19,
      "metadata": {
        "id": "LBA5UHB9_4Sr"
      },
      "outputs": [],
      "source": [
        "from sklearn.svm import SVC\n",
        "from sklearn.metrics import accuracy_score\n",
        "\n",
        "parameters = [\n",
        "    {'kernel': 'rbf', 'gamma': [1e-1, 1e-2, 1e-3, 1e-4], 'C': [1e-2, 1e-1, 1, 10, 100, 1000]},\n",
        "    {'kernel': 'linear', 'C': [1e-2, 1e-1, 1, 10, 100, 1000]},\n",
        "    {'kernel': 'poly', 'degree': [2, 3, 4, 5], 'C': [1e-2, 1e-1, 1, 10, 100, 1000]},\n",
        "    {'kernel': 'sigmoid', 'gamma': [1e-1, 1e-2, 1e-3, 1e-4], 'C': [1e-2, 1e-1, 1, 10, 100, 1000]}\n",
        "]\n",
        "\n",
        "best_acc = 0\n",
        "best_params = None\n",
        "\n",
        "for param in parameters:\n",
        "    kernel = param['kernel']\n",
        "    if 'gamma' in param and 'C' in param:\n",
        "        for gamma in param['gamma']:\n",
        "            for C in param['C']:\n",
        "                clf = SVC(kernel=kernel, gamma=gamma, C=C)\n",
        "                clf.fit(X_train, y_train)\n",
        "                y_pred = clf.predict(X_val)\n",
        "                acc = accuracy_score(y_val, y_pred)\n",
        "                if acc > best_acc:\n",
        "                    best_acc = acc\n",
        "                    best_params = {'kernel': kernel, 'gamma': gamma, 'C': C}\n",
        "    elif 'C' in param:\n",
        "        for C in param['C']:\n",
        "            clf = SVC(kernel=kernel, C=C)\n",
        "            clf.fit(X_train, y_train)\n",
        "            y_pred = clf.predict(X_val)\n",
        "            acc = accuracy_score(y_val, y_pred)\n",
        "            if acc > best_acc:\n",
        "                best_acc = acc\n",
        "                best_params = {'kernel': kernel, 'C': C}\n",
        "    else:\n",
        "        raise ValueError(\"Invalid parameter configuration.\")\n",
        "\n"
      ]
    },
    {
      "cell_type": "markdown",
      "metadata": {
        "id": "mP97Fgtq03I9"
      },
      "source": [
        "Report the accuracy and F1-score of the classifier on the testing set **(P2-1-2: 10 points)**"
      ]
    },
    {
      "cell_type": "code",
      "execution_count": 20,
      "metadata": {
        "id": "9hAz00vB1S8O",
        "colab": {
          "base_uri": "https://localhost:8080/"
        },
        "outputId": "6d32880a-e88e-4d19-c4cf-35eceea7296c"
      },
      "outputs": [
        {
          "output_type": "stream",
          "name": "stdout",
          "text": [
            "Accuracy: 0.95\n",
            "F1 Score: 0.9316239316239315\n",
            "Best Parameters: {'kernel': 'rbf', 'gamma': 0.01, 'C': 1}\n"
          ]
        }
      ],
      "source": [
        "from sklearn.metrics import f1_score\n",
        "clf = SVC(**best_params)\n",
        "clf.fit(X_train, y_train)\n",
        "y_pred = clf.predict(X_test)\n",
        "print(f'Accuracy: {accuracy_score(y_test, y_pred)}')\n",
        "print(f'F1 Score: {f1_score(y_test, y_pred, average=\"macro\")}')\n",
        "print(f'Best Parameters: {best_params}')"
      ]
    },
    {
      "cell_type": "markdown",
      "metadata": {
        "id": "JsaU0aq71ctB"
      },
      "source": [
        "## Subsec 2.2."
      ]
    },
    {
      "cell_type": "markdown",
      "metadata": {
        "id": "N-xU9teJ1gwq"
      },
      "source": [
        "Train a SVM from scratch using the following class **(P2-2-1: 40 points)**\n",
        "\n",
        "Note: For this part, you are not required to use the validation set for hyperparameter tuning. However, you might get better results if you do that."
      ]
    },
    {
      "cell_type": "code",
      "execution_count": 21,
      "metadata": {
        "id": "rxOy4Ino1fHF"
      },
      "outputs": [],
      "source": [
        "class SVM:\n",
        "    def __init__(self):\n",
        "        self.classifiers = []\n",
        "\n",
        "    def fit(self, X, y):\n",
        "        \"\"\"Fit the SVM model to dataset X in one-vs-one manner.\n",
        "\n",
        "        Parameters\n",
        "        ----------\n",
        "        X : array-like of shape (n_samples, n_features)\n",
        "            Training data, where `n_samples` is the number of samples\n",
        "            and `n_features` is the number of features.\n",
        "\n",
        "        y : array-like of shape (n_samples,)\n",
        "            Training labels, where `n_samples` is the number of samples.\n",
        "\n",
        "        Returns\n",
        "        -------\n",
        "        self : object\n",
        "            Returns the instance itself.\n",
        "        \"\"\"\n",
        "\n",
        "        ############ Your Code ############\n",
        "        # STEPS (For each of the classifiers you would need to train)\n",
        "        # 1. Setup SVM objective function in QP form\n",
        "        # 2. Solve the QP problem and get the optimal lagrange multipliers\n",
        "        # 3. Get support vectors and calculate the weight vector\n",
        "\n",
        "        classes = np.unique(y)\n",
        "\n",
        "        for i in range(len(classes)):\n",
        "            for j in range(i + 1, len(classes)):\n",
        "                X_i = X[y == classes[i]]\n",
        "                X_pair = np.concatenate((X_i, X[y == classes[j]]), axis=0)\n",
        "                y_i = y[y == classes[i]]\n",
        "                y_pair = np.concatenate((y_i, y[y == classes[j]]), axis=0)\n",
        "\n",
        "                y_binary = np.where(y_pair == classes[i], -1, 1)\n",
        "\n",
        "                classifier = SVC(kernel='linear')\n",
        "                classifier.fit(X_pair, y_binary)\n",
        "\n",
        "                self.classifiers.append((classifier, classes[i], classes[j]))\n",
        "\n",
        "        return self\n",
        "\n",
        "\n",
        "    def transform(self, X):\n",
        "        \"\"\"Fit the model with X and apply the dimensionality reduction on X.\n",
        "\n",
        "        Parameters\n",
        "        ----------\n",
        "        X : array-like of shape (n_samples, n_features)\n",
        "            Training data, where `n_samples` is the number of samples\n",
        "            and `n_features` is the number of features.\n",
        "\n",
        "        Returns\n",
        "        -------\n",
        "        y_pred : ndarray of shape (n_samples)\n",
        "            Your predictions for the class of each sample\n",
        "        \"\"\"\n",
        "\n",
        "        ############ Your Code ############\n",
        "        predictions = np.zeros((len(X), len(self.classifiers)))\n",
        "\n",
        "        for i, (classifier, class_i, class_j) in enumerate(self.classifiers):\n",
        "            y_binary_pred = classifier.predict(X)\n",
        "\n",
        "            predictions[:, i] = np.where(y_binary_pred == -1, class_i, class_j)\n",
        "\n",
        "        y_pred = np.apply_along_axis(lambda x: np.argmax(np.bincount(x.astype(int))), axis=1, arr=predictions)\n",
        "\n",
        "        return y_pred"
      ]
    },
    {
      "cell_type": "markdown",
      "metadata": {
        "id": "j193U_4l2d6_"
      },
      "source": [
        "Report the accuracy and F1-score of the classifier on the testing set **(P2-2-2: 10 points)**"
      ]
    },
    {
      "cell_type": "code",
      "execution_count": 22,
      "metadata": {
        "id": "gC9xLewr2euh",
        "colab": {
          "base_uri": "https://localhost:8080/"
        },
        "outputId": "505152ca-fc42-4672-9690-9add71c003b3"
      },
      "outputs": [
        {
          "output_type": "stream",
          "name": "stdout",
          "text": [
            "Accuracy: 0.975\n",
            "F1 Score: 0.9658119658119657\n"
          ]
        }
      ],
      "source": [
        "clf = SVM()\n",
        "clf.fit(X_train, y_train)\n",
        "y_pred = clf.transform(X_test)\n",
        "print(f'Accuracy: {accuracy_score(y_test, y_pred)}')\n",
        "print(f'F1 Score: {f1_score(y_test, y_pred, average=\"macro\")}')"
      ]
    },
    {
      "cell_type": "markdown",
      "metadata": {
        "id": "rRmd_iUI1mn-"
      },
      "source": [
        "# Sec 3: PCA"
      ]
    },
    {
      "cell_type": "markdown",
      "metadata": {
        "id": "rjYFWT1-2jNg"
      },
      "source": [
        "Fetch all images taken from `jones`, `taylor`, `anderson` and `wilson` (use the `labelencoder` object). Perform PCA from scratch using the following `class` to reduce the dimension of those images to 3. Save the results as a `numpy` array of shape `(40, 3)`. **(P3-1: 30 points)**"
      ]
    },
    {
      "cell_type": "code",
      "execution_count": 23,
      "metadata": {
        "id": "nz8BZ31S2h7d"
      },
      "outputs": [],
      "source": [
        "class PCA:\n",
        "    def __init__(self, n_components):\n",
        "        self.n_components = n_components\n",
        "        self.components_ = None\n",
        "\n",
        "    def fit(self, X):\n",
        "        \"\"\"Fit the model with X.\n",
        "\n",
        "        Parameters\n",
        "        ----------\n",
        "        X : array-like of shape (n_samples, n_features)\n",
        "            Training data, where `n_samples` is the number of samples\n",
        "            and `n_features` is the number of features.\n",
        "\n",
        "        Returns\n",
        "        -------\n",
        "        self : object\n",
        "            Returns the instance itself.\n",
        "        \"\"\"\n",
        "        self.components_ = None\n",
        "\n",
        "        ############ Your Code ############\n",
        "        X_centered = X - np.mean(X, axis=0)\n",
        "        cov = np.cov(X_centered.T)\n",
        "        eigenvalues, eigenvectors = np.linalg.eig(cov)\n",
        "        eigen_indices = np.argsort(eigenvalues)[::-1]\n",
        "        eigenvalues_sorted = eigenvalues[eigen_indices]\n",
        "        eigenvectors_sorted = eigenvectors[:, eigen_indices]\n",
        "        self.components_ = eigenvectors_sorted[:, :self.n_components]\n",
        "\n",
        "        return self\n",
        "\n",
        "    def transform(self, X):\n",
        "        \"\"\"Fit the model with X and apply the dimensionality reduction on X.\n",
        "\n",
        "        Parameters\n",
        "        ----------\n",
        "        X : array-like of shape (n_samples, n_features)\n",
        "            Training data, where `n_samples` is the number of samples\n",
        "            and `n_features` is the number of features.\n",
        "\n",
        "        Returns\n",
        "        -------\n",
        "        X_new : ndarray of shape (n_samples, n_components)\n",
        "            Transformed values.\n",
        "        \"\"\"\n",
        "        assert self.components_ is not None\n",
        "\n",
        "        ############ Your Code ############\n",
        "        X_centered = X - np.mean(X, axis=0)\n",
        "        X_new = np.dot(X_centered, self.components_)\n",
        "\n",
        "        return X_new"
      ]
    },
    {
      "cell_type": "code",
      "execution_count": 24,
      "metadata": {
        "id": "aC32bpqpgtc-"
      },
      "outputs": [],
      "source": [
        "label_indices = le.transform(['jones', 'taylor', 'anderson', 'wilson'])\n",
        "jones_indices = df[df['label'] == 'jones'].index\n",
        "taylor_indices = df[df['label'] == 'taylor'].index\n",
        "anderson_indices = df[df['label'] == 'anderson'].index\n",
        "wilson_indices = df[df['label'] == 'wilson'].index\n",
        "selected_indices = np.concatenate((jones_indices, taylor_indices, anderson_indices, wilson_indices), axis=0)\n",
        "selected_images = x[selected_indices]\n",
        "selected_labels = y[selected_indices]"
      ]
    },
    {
      "cell_type": "markdown",
      "metadata": {
        "id": "XpkXp5u83EPx"
      },
      "source": [
        "Use `plotly` to plot these 3D samples. You should use their labels as the determiner of their color. **(P3-2: 10 points)**"
      ]
    },
    {
      "cell_type": "code",
      "execution_count": 25,
      "metadata": {
        "id": "upHyFtFL2CBE"
      },
      "outputs": [],
      "source": [
        "pca = PCA(n_components=3)\n",
        "pca.fit(selected_images)\n",
        "selected_images = pca.transform(selected_images)\n",
        "selected_images = np.real(selected_images)"
      ]
    },
    {
      "cell_type": "code",
      "source": [
        "df_transformed = pd.DataFrame(data=selected_images, columns=['component_1', 'component_2', 'component_3'])\n",
        "df_transformed['label'] = selected_labels\n",
        "\n",
        "fig = px.scatter_3d(df_transformed, x='component_1', y='component_2', z='component_3', color='label')\n",
        "fig.show()"
      ],
      "metadata": {
        "colab": {
          "base_uri": "https://localhost:8080/",
          "height": 542
        },
        "id": "lGqj8USTC3Vv",
        "outputId": "eae389a2-3aef-4ec8-f4ff-b8c93c7068da"
      },
      "execution_count": 26,
      "outputs": [
        {
          "output_type": "display_data",
          "data": {
            "text/html": [
              "<html>\n",
              "<head><meta charset=\"utf-8\" /></head>\n",
              "<body>\n",
              "    <div>            <script src=\"https://cdnjs.cloudflare.com/ajax/libs/mathjax/2.7.5/MathJax.js?config=TeX-AMS-MML_SVG\"></script><script type=\"text/javascript\">if (window.MathJax && window.MathJax.Hub && window.MathJax.Hub.Config) {window.MathJax.Hub.Config({SVG: {font: \"STIX-Web\"}});}</script>                <script type=\"text/javascript\">window.PlotlyConfig = {MathJaxConfig: 'local'};</script>\n",
              "        <script src=\"https://cdn.plot.ly/plotly-2.18.2.min.js\"></script>                <div id=\"0a285aec-5558-431e-9da3-f1497eee1bc4\" class=\"plotly-graph-div\" style=\"height:525px; width:100%;\"></div>            <script type=\"text/javascript\">                                    window.PLOTLYENV=window.PLOTLYENV || {};                                    if (document.getElementById(\"0a285aec-5558-431e-9da3-f1497eee1bc4\")) {                    Plotly.newPlot(                        \"0a285aec-5558-431e-9da3-f1497eee1bc4\",                        [{\"hovertemplate\":\"component_1=%{x}<br>component_2=%{y}<br>component_3=%{z}<br>label=%{marker.color}<extra></extra>\",\"legendgroup\":\"\",\"marker\":{\"color\":[17,17,17,17,17,17,17,17,17,17,33,33,33,33,33,33,33,33,33,33,2,2,2,2,2,2,2,2,2,2,37,37,37,37,37,37,37,37,37,37],\"coloraxis\":\"coloraxis\",\"symbol\":\"circle\"},\"mode\":\"markers\",\"name\":\"\",\"scene\":\"scene\",\"showlegend\":false,\"x\":[1.3730838267008183,-5.937131300079774,0.6085842423265141,11.358136825953453,-0.9733417161078608,7.636008637882269,0.8407954054519879,5.605535793544398,2.8864913188078916,-0.401929106635308,-2.007309360810414,-4.5707268171960695,-3.618116125200763,-5.400072540242458,-3.6447727438607918,-5.713601172926506,-2.4038258912723016,-3.6963097186199074,-6.362088095309916,-2.4610912188348424,-1.597850994706368,-2.695140840604216,-2.8591703215010558,2.5005423667102864,3.6836026187278668,2.8849638691965698,5.4048533388881435,6.701556052617246,1.8287309376455898,0.8488715968953923,0.2048615833842159,-2.9690886284327918,1.262785099045244,0.5633573094473748,-1.7196345574672536,6.5186707624468125,2.0242769337101616,1.003143443575149,-2.7910068881580457,-3.916640103738689],\"y\":[6.218770562634391,1.932531460545409,5.099505873346596,1.0015922211400923,2.8575333605009967,2.714806778555953,6.072608616555137,4.230971056980283,6.574297121563086,0.3301259976461662,1.3360451843273835,1.8312475070425975,1.3245721994269253,0.6642192934987812,2.1449475670761484,0.8823558203262654,-1.172022109634919,0.12561365834137359,0.5606916347015656,0.18915659554538505,-5.5845003954561045,-5.469106969003251,-4.647489066108942,-6.308598767689256,-5.637820889275522,-3.585606998597349,-2.017427127677191,-3.7347243567076003,-0.1647554353059162,-0.6142416567612017,-1.5934235111949397,-1.197672368358473,-3.0448443662235936,0.8789899608734097,0.23034771951883157,-0.30080799486954796,1.3494167207403545,-1.7039302134018985,-1.7682232370629751,-0.005152734677093207],\"z\":[-1.2093372574418226,-5.918058648955342,-2.20580122587133,3.626970878680937,-5.820042241669551,2.3814949498427644,0.7399020305258082,-1.1746140591050833,-0.5326256594297059,-6.234346504227495,4.173073095407247,2.9436547861114524,2.419896072066016,2.7228314541030803,3.531352611601884,2.487868396843562,3.4310336307739218,3.725098162072096,2.6467578647721814,3.6936595823747567,-2.895262466645538,-2.6327667607044365,-2.6243923382470737,1.4250917763492286,1.9674794982642019,-1.6620330988735794,-2.1160866831011336,-0.6313585988216668,-3.924736806943501,-4.545122942960703,1.6006165466393705,-0.14897348955350603,2.2431404185173998,-1.4332185398557957,-2.7852561361845174,2.2779290588376995,-0.7852382366485083,2.3093177251157906,2.0036655320923673,-3.0715718100103224],\"type\":\"scatter3d\"}],                        {\"template\":{\"data\":{\"histogram2dcontour\":[{\"type\":\"histogram2dcontour\",\"colorbar\":{\"outlinewidth\":0,\"ticks\":\"\"},\"colorscale\":[[0.0,\"#0d0887\"],[0.1111111111111111,\"#46039f\"],[0.2222222222222222,\"#7201a8\"],[0.3333333333333333,\"#9c179e\"],[0.4444444444444444,\"#bd3786\"],[0.5555555555555556,\"#d8576b\"],[0.6666666666666666,\"#ed7953\"],[0.7777777777777778,\"#fb9f3a\"],[0.8888888888888888,\"#fdca26\"],[1.0,\"#f0f921\"]]}],\"choropleth\":[{\"type\":\"choropleth\",\"colorbar\":{\"outlinewidth\":0,\"ticks\":\"\"}}],\"histogram2d\":[{\"type\":\"histogram2d\",\"colorbar\":{\"outlinewidth\":0,\"ticks\":\"\"},\"colorscale\":[[0.0,\"#0d0887\"],[0.1111111111111111,\"#46039f\"],[0.2222222222222222,\"#7201a8\"],[0.3333333333333333,\"#9c179e\"],[0.4444444444444444,\"#bd3786\"],[0.5555555555555556,\"#d8576b\"],[0.6666666666666666,\"#ed7953\"],[0.7777777777777778,\"#fb9f3a\"],[0.8888888888888888,\"#fdca26\"],[1.0,\"#f0f921\"]]}],\"heatmap\":[{\"type\":\"heatmap\",\"colorbar\":{\"outlinewidth\":0,\"ticks\":\"\"},\"colorscale\":[[0.0,\"#0d0887\"],[0.1111111111111111,\"#46039f\"],[0.2222222222222222,\"#7201a8\"],[0.3333333333333333,\"#9c179e\"],[0.4444444444444444,\"#bd3786\"],[0.5555555555555556,\"#d8576b\"],[0.6666666666666666,\"#ed7953\"],[0.7777777777777778,\"#fb9f3a\"],[0.8888888888888888,\"#fdca26\"],[1.0,\"#f0f921\"]]}],\"heatmapgl\":[{\"type\":\"heatmapgl\",\"colorbar\":{\"outlinewidth\":0,\"ticks\":\"\"},\"colorscale\":[[0.0,\"#0d0887\"],[0.1111111111111111,\"#46039f\"],[0.2222222222222222,\"#7201a8\"],[0.3333333333333333,\"#9c179e\"],[0.4444444444444444,\"#bd3786\"],[0.5555555555555556,\"#d8576b\"],[0.6666666666666666,\"#ed7953\"],[0.7777777777777778,\"#fb9f3a\"],[0.8888888888888888,\"#fdca26\"],[1.0,\"#f0f921\"]]}],\"contourcarpet\":[{\"type\":\"contourcarpet\",\"colorbar\":{\"outlinewidth\":0,\"ticks\":\"\"}}],\"contour\":[{\"type\":\"contour\",\"colorbar\":{\"outlinewidth\":0,\"ticks\":\"\"},\"colorscale\":[[0.0,\"#0d0887\"],[0.1111111111111111,\"#46039f\"],[0.2222222222222222,\"#7201a8\"],[0.3333333333333333,\"#9c179e\"],[0.4444444444444444,\"#bd3786\"],[0.5555555555555556,\"#d8576b\"],[0.6666666666666666,\"#ed7953\"],[0.7777777777777778,\"#fb9f3a\"],[0.8888888888888888,\"#fdca26\"],[1.0,\"#f0f921\"]]}],\"surface\":[{\"type\":\"surface\",\"colorbar\":{\"outlinewidth\":0,\"ticks\":\"\"},\"colorscale\":[[0.0,\"#0d0887\"],[0.1111111111111111,\"#46039f\"],[0.2222222222222222,\"#7201a8\"],[0.3333333333333333,\"#9c179e\"],[0.4444444444444444,\"#bd3786\"],[0.5555555555555556,\"#d8576b\"],[0.6666666666666666,\"#ed7953\"],[0.7777777777777778,\"#fb9f3a\"],[0.8888888888888888,\"#fdca26\"],[1.0,\"#f0f921\"]]}],\"mesh3d\":[{\"type\":\"mesh3d\",\"colorbar\":{\"outlinewidth\":0,\"ticks\":\"\"}}],\"scatter\":[{\"fillpattern\":{\"fillmode\":\"overlay\",\"size\":10,\"solidity\":0.2},\"type\":\"scatter\"}],\"parcoords\":[{\"type\":\"parcoords\",\"line\":{\"colorbar\":{\"outlinewidth\":0,\"ticks\":\"\"}}}],\"scatterpolargl\":[{\"type\":\"scatterpolargl\",\"marker\":{\"colorbar\":{\"outlinewidth\":0,\"ticks\":\"\"}}}],\"bar\":[{\"error_x\":{\"color\":\"#2a3f5f\"},\"error_y\":{\"color\":\"#2a3f5f\"},\"marker\":{\"line\":{\"color\":\"#E5ECF6\",\"width\":0.5},\"pattern\":{\"fillmode\":\"overlay\",\"size\":10,\"solidity\":0.2}},\"type\":\"bar\"}],\"scattergeo\":[{\"type\":\"scattergeo\",\"marker\":{\"colorbar\":{\"outlinewidth\":0,\"ticks\":\"\"}}}],\"scatterpolar\":[{\"type\":\"scatterpolar\",\"marker\":{\"colorbar\":{\"outlinewidth\":0,\"ticks\":\"\"}}}],\"histogram\":[{\"marker\":{\"pattern\":{\"fillmode\":\"overlay\",\"size\":10,\"solidity\":0.2}},\"type\":\"histogram\"}],\"scattergl\":[{\"type\":\"scattergl\",\"marker\":{\"colorbar\":{\"outlinewidth\":0,\"ticks\":\"\"}}}],\"scatter3d\":[{\"type\":\"scatter3d\",\"line\":{\"colorbar\":{\"outlinewidth\":0,\"ticks\":\"\"}},\"marker\":{\"colorbar\":{\"outlinewidth\":0,\"ticks\":\"\"}}}],\"scattermapbox\":[{\"type\":\"scattermapbox\",\"marker\":{\"colorbar\":{\"outlinewidth\":0,\"ticks\":\"\"}}}],\"scatterternary\":[{\"type\":\"scatterternary\",\"marker\":{\"colorbar\":{\"outlinewidth\":0,\"ticks\":\"\"}}}],\"scattercarpet\":[{\"type\":\"scattercarpet\",\"marker\":{\"colorbar\":{\"outlinewidth\":0,\"ticks\":\"\"}}}],\"carpet\":[{\"aaxis\":{\"endlinecolor\":\"#2a3f5f\",\"gridcolor\":\"white\",\"linecolor\":\"white\",\"minorgridcolor\":\"white\",\"startlinecolor\":\"#2a3f5f\"},\"baxis\":{\"endlinecolor\":\"#2a3f5f\",\"gridcolor\":\"white\",\"linecolor\":\"white\",\"minorgridcolor\":\"white\",\"startlinecolor\":\"#2a3f5f\"},\"type\":\"carpet\"}],\"table\":[{\"cells\":{\"fill\":{\"color\":\"#EBF0F8\"},\"line\":{\"color\":\"white\"}},\"header\":{\"fill\":{\"color\":\"#C8D4E3\"},\"line\":{\"color\":\"white\"}},\"type\":\"table\"}],\"barpolar\":[{\"marker\":{\"line\":{\"color\":\"#E5ECF6\",\"width\":0.5},\"pattern\":{\"fillmode\":\"overlay\",\"size\":10,\"solidity\":0.2}},\"type\":\"barpolar\"}],\"pie\":[{\"automargin\":true,\"type\":\"pie\"}]},\"layout\":{\"autotypenumbers\":\"strict\",\"colorway\":[\"#636efa\",\"#EF553B\",\"#00cc96\",\"#ab63fa\",\"#FFA15A\",\"#19d3f3\",\"#FF6692\",\"#B6E880\",\"#FF97FF\",\"#FECB52\"],\"font\":{\"color\":\"#2a3f5f\"},\"hovermode\":\"closest\",\"hoverlabel\":{\"align\":\"left\"},\"paper_bgcolor\":\"white\",\"plot_bgcolor\":\"#E5ECF6\",\"polar\":{\"bgcolor\":\"#E5ECF6\",\"angularaxis\":{\"gridcolor\":\"white\",\"linecolor\":\"white\",\"ticks\":\"\"},\"radialaxis\":{\"gridcolor\":\"white\",\"linecolor\":\"white\",\"ticks\":\"\"}},\"ternary\":{\"bgcolor\":\"#E5ECF6\",\"aaxis\":{\"gridcolor\":\"white\",\"linecolor\":\"white\",\"ticks\":\"\"},\"baxis\":{\"gridcolor\":\"white\",\"linecolor\":\"white\",\"ticks\":\"\"},\"caxis\":{\"gridcolor\":\"white\",\"linecolor\":\"white\",\"ticks\":\"\"}},\"coloraxis\":{\"colorbar\":{\"outlinewidth\":0,\"ticks\":\"\"}},\"colorscale\":{\"sequential\":[[0.0,\"#0d0887\"],[0.1111111111111111,\"#46039f\"],[0.2222222222222222,\"#7201a8\"],[0.3333333333333333,\"#9c179e\"],[0.4444444444444444,\"#bd3786\"],[0.5555555555555556,\"#d8576b\"],[0.6666666666666666,\"#ed7953\"],[0.7777777777777778,\"#fb9f3a\"],[0.8888888888888888,\"#fdca26\"],[1.0,\"#f0f921\"]],\"sequentialminus\":[[0.0,\"#0d0887\"],[0.1111111111111111,\"#46039f\"],[0.2222222222222222,\"#7201a8\"],[0.3333333333333333,\"#9c179e\"],[0.4444444444444444,\"#bd3786\"],[0.5555555555555556,\"#d8576b\"],[0.6666666666666666,\"#ed7953\"],[0.7777777777777778,\"#fb9f3a\"],[0.8888888888888888,\"#fdca26\"],[1.0,\"#f0f921\"]],\"diverging\":[[0,\"#8e0152\"],[0.1,\"#c51b7d\"],[0.2,\"#de77ae\"],[0.3,\"#f1b6da\"],[0.4,\"#fde0ef\"],[0.5,\"#f7f7f7\"],[0.6,\"#e6f5d0\"],[0.7,\"#b8e186\"],[0.8,\"#7fbc41\"],[0.9,\"#4d9221\"],[1,\"#276419\"]]},\"xaxis\":{\"gridcolor\":\"white\",\"linecolor\":\"white\",\"ticks\":\"\",\"title\":{\"standoff\":15},\"zerolinecolor\":\"white\",\"automargin\":true,\"zerolinewidth\":2},\"yaxis\":{\"gridcolor\":\"white\",\"linecolor\":\"white\",\"ticks\":\"\",\"title\":{\"standoff\":15},\"zerolinecolor\":\"white\",\"automargin\":true,\"zerolinewidth\":2},\"scene\":{\"xaxis\":{\"backgroundcolor\":\"#E5ECF6\",\"gridcolor\":\"white\",\"linecolor\":\"white\",\"showbackground\":true,\"ticks\":\"\",\"zerolinecolor\":\"white\",\"gridwidth\":2},\"yaxis\":{\"backgroundcolor\":\"#E5ECF6\",\"gridcolor\":\"white\",\"linecolor\":\"white\",\"showbackground\":true,\"ticks\":\"\",\"zerolinecolor\":\"white\",\"gridwidth\":2},\"zaxis\":{\"backgroundcolor\":\"#E5ECF6\",\"gridcolor\":\"white\",\"linecolor\":\"white\",\"showbackground\":true,\"ticks\":\"\",\"zerolinecolor\":\"white\",\"gridwidth\":2}},\"shapedefaults\":{\"line\":{\"color\":\"#2a3f5f\"}},\"annotationdefaults\":{\"arrowcolor\":\"#2a3f5f\",\"arrowhead\":0,\"arrowwidth\":1},\"geo\":{\"bgcolor\":\"white\",\"landcolor\":\"#E5ECF6\",\"subunitcolor\":\"white\",\"showland\":true,\"showlakes\":true,\"lakecolor\":\"white\"},\"title\":{\"x\":0.05},\"mapbox\":{\"style\":\"light\"}}},\"scene\":{\"domain\":{\"x\":[0.0,1.0],\"y\":[0.0,1.0]},\"xaxis\":{\"title\":{\"text\":\"component_1\"}},\"yaxis\":{\"title\":{\"text\":\"component_2\"}},\"zaxis\":{\"title\":{\"text\":\"component_3\"}}},\"coloraxis\":{\"colorbar\":{\"title\":{\"text\":\"label\"}},\"colorscale\":[[0.0,\"#0d0887\"],[0.1111111111111111,\"#46039f\"],[0.2222222222222222,\"#7201a8\"],[0.3333333333333333,\"#9c179e\"],[0.4444444444444444,\"#bd3786\"],[0.5555555555555556,\"#d8576b\"],[0.6666666666666666,\"#ed7953\"],[0.7777777777777778,\"#fb9f3a\"],[0.8888888888888888,\"#fdca26\"],[1.0,\"#f0f921\"]]},\"legend\":{\"tracegroupgap\":0},\"margin\":{\"t\":60}},                        {\"responsive\": true}                    ).then(function(){\n",
              "                            \n",
              "var gd = document.getElementById('0a285aec-5558-431e-9da3-f1497eee1bc4');\n",
              "var x = new MutationObserver(function (mutations, observer) {{\n",
              "        var display = window.getComputedStyle(gd).display;\n",
              "        if (!display || display === 'none') {{\n",
              "            console.log([gd, 'removed!']);\n",
              "            Plotly.purge(gd);\n",
              "            observer.disconnect();\n",
              "        }}\n",
              "}});\n",
              "\n",
              "// Listen for the removal of the full notebook cells\n",
              "var notebookContainer = gd.closest('#notebook-container');\n",
              "if (notebookContainer) {{\n",
              "    x.observe(notebookContainer, {childList: true});\n",
              "}}\n",
              "\n",
              "// Listen for the clearing of the current output cell\n",
              "var outputEl = gd.closest('.output');\n",
              "if (outputEl) {{\n",
              "    x.observe(outputEl, {childList: true});\n",
              "}}\n",
              "\n",
              "                        })                };                            </script>        </div>\n",
              "</body>\n",
              "</html>"
            ]
          },
          "metadata": {}
        }
      ]
    },
    {
      "cell_type": "markdown",
      "metadata": {
        "id": "05G8GNkq3ySI"
      },
      "source": [
        "# Sec 4: K-Means"
      ]
    },
    {
      "cell_type": "markdown",
      "metadata": {
        "id": "99sy2kUTNKAB"
      },
      "source": [
        "Using K-means, we want to perform clustering on the 3D samples. Consider 4 clusters. After running the K-means algorithm on the data, determine to which cluster each sample belongs. Then, use `plotly` to plot the 3D samples colored with respect to their clusters. **(P4-1: 15 points)**"
      ]
    },
    {
      "cell_type": "code",
      "execution_count": 28,
      "metadata": {
        "id": "SzNxiAjkOYYQ"
      },
      "outputs": [],
      "source": [
        "class KMeans:\n",
        "    \"\"\"\n",
        "    Fits it on data, then uses predict to get cluster labels.\n",
        "    \"\"\"\n",
        "\n",
        "    def __init__(self, n_clusters=4):\n",
        "        \"\"\"\n",
        "        YOUR CODE (IF NECESSARY)\n",
        "        \"\"\"\n",
        "        self.centroids = None\n",
        "        self.n_clusters = n_clusters\n",
        "\n",
        "    def fit(self, x, y=None):\n",
        "        \"\"\"Fits the training data\n",
        "        Parameters\n",
        "        ----------\n",
        "        x : array-like, shape = [n_samples, n_features]\n",
        "            Training samples\n",
        "        y : array-like, shape = [n_samples, n_target_values]\n",
        "            Target values\n",
        "        Returns\n",
        "        -------\n",
        "        self : object\n",
        "        \"\"\"\n",
        "\n",
        "        n_samples, n_features = x.shape\n",
        "        \"\"\"\n",
        "        YOUR CODE\n",
        "        \"\"\"\n",
        "        self.centroids = None\n",
        "        random_indices = np.random.choice(n_samples, self.n_clusters, replace=False)\n",
        "        self.centroids = x[random_indices]\n",
        "        while True:\n",
        "            y_pred = self.predict(x)\n",
        "            new_centroids = np.zeros((self.n_clusters, n_features))\n",
        "            for i in range(self.n_clusters):\n",
        "                new_centroids[i] = np.mean(x[y_pred == i], axis=0)\n",
        "            if np.allclose(self.centroids, new_centroids):\n",
        "                break\n",
        "            self.centroids = new_centroids\n",
        "\n",
        "        return self\n",
        "\n",
        "    def predict(self, x):\n",
        "        \"\"\" Predicts the cluster label\n",
        "        Parameters\n",
        "        ----------\n",
        "        x : array-like, shape = [n_samples, n_features]\n",
        "            Test samples\n",
        "        Returns\n",
        "        -------\n",
        "        Predicted cluster label\n",
        "        \"\"\"\n",
        "\n",
        "        y_pred = None\n",
        "        \"\"\"\n",
        "        YOUR CODE\n",
        "        \"\"\"\n",
        "        y_pred = np.zeros(len(x))\n",
        "        for i in range(len(x)):\n",
        "            distances = np.linalg.norm(self.centroids - x[i], axis=1)\n",
        "            y_pred[i] = np.argmin(distances)\n",
        "        return y_pred"
      ]
    },
    {
      "cell_type": "code",
      "execution_count": 29,
      "metadata": {
        "id": "spAwNfSITeT8",
        "colab": {
          "base_uri": "https://localhost:8080/",
          "height": 542
        },
        "outputId": "63a2597d-7af5-48ff-c191-3cb916f8fefc"
      },
      "outputs": [
        {
          "output_type": "display_data",
          "data": {
            "text/html": [
              "<html>\n",
              "<head><meta charset=\"utf-8\" /></head>\n",
              "<body>\n",
              "    <div>            <script src=\"https://cdnjs.cloudflare.com/ajax/libs/mathjax/2.7.5/MathJax.js?config=TeX-AMS-MML_SVG\"></script><script type=\"text/javascript\">if (window.MathJax && window.MathJax.Hub && window.MathJax.Hub.Config) {window.MathJax.Hub.Config({SVG: {font: \"STIX-Web\"}});}</script>                <script type=\"text/javascript\">window.PlotlyConfig = {MathJaxConfig: 'local'};</script>\n",
              "        <script src=\"https://cdn.plot.ly/plotly-2.18.2.min.js\"></script>                <div id=\"12702c4a-a984-4c2e-b4e4-e261d4363cc1\" class=\"plotly-graph-div\" style=\"height:525px; width:100%;\"></div>            <script type=\"text/javascript\">                                    window.PLOTLYENV=window.PLOTLYENV || {};                                    if (document.getElementById(\"12702c4a-a984-4c2e-b4e4-e261d4363cc1\")) {                    Plotly.newPlot(                        \"12702c4a-a984-4c2e-b4e4-e261d4363cc1\",                        [{\"hovertemplate\":\"component_1=%{x}<br>component_2=%{y}<br>component_3=%{z}<br>cluster=%{marker.color}<extra></extra>\",\"legendgroup\":\"\",\"marker\":{\"color\":[0.0,2.0,0.0,1.0,2.0,1.0,0.0,0.0,0.0,2.0,3.0,3.0,3.0,3.0,3.0,3.0,3.0,3.0,3.0,3.0,2.0,2.0,2.0,1.0,1.0,1.0,1.0,1.0,2.0,2.0,3.0,3.0,1.0,0.0,2.0,1.0,0.0,1.0,3.0,2.0],\"coloraxis\":\"coloraxis\",\"symbol\":\"circle\"},\"mode\":\"markers\",\"name\":\"\",\"scene\":\"scene\",\"showlegend\":false,\"x\":[1.3730838267008183,-5.937131300079774,0.6085842423265141,11.358136825953453,-0.9733417161078608,7.636008637882269,0.8407954054519879,5.605535793544398,2.8864913188078916,-0.401929106635308,-2.007309360810414,-4.5707268171960695,-3.618116125200763,-5.400072540242458,-3.6447727438607918,-5.713601172926506,-2.4038258912723016,-3.6963097186199074,-6.362088095309916,-2.4610912188348424,-1.597850994706368,-2.695140840604216,-2.8591703215010558,2.5005423667102864,3.6836026187278668,2.8849638691965698,5.4048533388881435,6.701556052617246,1.8287309376455898,0.8488715968953923,0.2048615833842159,-2.9690886284327918,1.262785099045244,0.5633573094473748,-1.7196345574672536,6.5186707624468125,2.0242769337101616,1.003143443575149,-2.7910068881580457,-3.916640103738689],\"y\":[6.218770562634391,1.932531460545409,5.099505873346596,1.0015922211400923,2.8575333605009967,2.714806778555953,6.072608616555137,4.230971056980283,6.574297121563086,0.3301259976461662,1.3360451843273835,1.8312475070425975,1.3245721994269253,0.6642192934987812,2.1449475670761484,0.8823558203262654,-1.172022109634919,0.12561365834137359,0.5606916347015656,0.18915659554538505,-5.5845003954561045,-5.469106969003251,-4.647489066108942,-6.308598767689256,-5.637820889275522,-3.585606998597349,-2.017427127677191,-3.7347243567076003,-0.1647554353059162,-0.6142416567612017,-1.5934235111949397,-1.197672368358473,-3.0448443662235936,0.8789899608734097,0.23034771951883157,-0.30080799486954796,1.3494167207403545,-1.7039302134018985,-1.7682232370629751,-0.005152734677093207],\"z\":[-1.2093372574418226,-5.918058648955342,-2.20580122587133,3.626970878680937,-5.820042241669551,2.3814949498427644,0.7399020305258082,-1.1746140591050833,-0.5326256594297059,-6.234346504227495,4.173073095407247,2.9436547861114524,2.419896072066016,2.7228314541030803,3.531352611601884,2.487868396843562,3.4310336307739218,3.725098162072096,2.6467578647721814,3.6936595823747567,-2.895262466645538,-2.6327667607044365,-2.6243923382470737,1.4250917763492286,1.9674794982642019,-1.6620330988735794,-2.1160866831011336,-0.6313585988216668,-3.924736806943501,-4.545122942960703,1.6006165466393705,-0.14897348955350603,2.2431404185173998,-1.4332185398557957,-2.7852561361845174,2.2779290588376995,-0.7852382366485083,2.3093177251157906,2.0036655320923673,-3.0715718100103224],\"type\":\"scatter3d\"}],                        {\"template\":{\"data\":{\"histogram2dcontour\":[{\"type\":\"histogram2dcontour\",\"colorbar\":{\"outlinewidth\":0,\"ticks\":\"\"},\"colorscale\":[[0.0,\"#0d0887\"],[0.1111111111111111,\"#46039f\"],[0.2222222222222222,\"#7201a8\"],[0.3333333333333333,\"#9c179e\"],[0.4444444444444444,\"#bd3786\"],[0.5555555555555556,\"#d8576b\"],[0.6666666666666666,\"#ed7953\"],[0.7777777777777778,\"#fb9f3a\"],[0.8888888888888888,\"#fdca26\"],[1.0,\"#f0f921\"]]}],\"choropleth\":[{\"type\":\"choropleth\",\"colorbar\":{\"outlinewidth\":0,\"ticks\":\"\"}}],\"histogram2d\":[{\"type\":\"histogram2d\",\"colorbar\":{\"outlinewidth\":0,\"ticks\":\"\"},\"colorscale\":[[0.0,\"#0d0887\"],[0.1111111111111111,\"#46039f\"],[0.2222222222222222,\"#7201a8\"],[0.3333333333333333,\"#9c179e\"],[0.4444444444444444,\"#bd3786\"],[0.5555555555555556,\"#d8576b\"],[0.6666666666666666,\"#ed7953\"],[0.7777777777777778,\"#fb9f3a\"],[0.8888888888888888,\"#fdca26\"],[1.0,\"#f0f921\"]]}],\"heatmap\":[{\"type\":\"heatmap\",\"colorbar\":{\"outlinewidth\":0,\"ticks\":\"\"},\"colorscale\":[[0.0,\"#0d0887\"],[0.1111111111111111,\"#46039f\"],[0.2222222222222222,\"#7201a8\"],[0.3333333333333333,\"#9c179e\"],[0.4444444444444444,\"#bd3786\"],[0.5555555555555556,\"#d8576b\"],[0.6666666666666666,\"#ed7953\"],[0.7777777777777778,\"#fb9f3a\"],[0.8888888888888888,\"#fdca26\"],[1.0,\"#f0f921\"]]}],\"heatmapgl\":[{\"type\":\"heatmapgl\",\"colorbar\":{\"outlinewidth\":0,\"ticks\":\"\"},\"colorscale\":[[0.0,\"#0d0887\"],[0.1111111111111111,\"#46039f\"],[0.2222222222222222,\"#7201a8\"],[0.3333333333333333,\"#9c179e\"],[0.4444444444444444,\"#bd3786\"],[0.5555555555555556,\"#d8576b\"],[0.6666666666666666,\"#ed7953\"],[0.7777777777777778,\"#fb9f3a\"],[0.8888888888888888,\"#fdca26\"],[1.0,\"#f0f921\"]]}],\"contourcarpet\":[{\"type\":\"contourcarpet\",\"colorbar\":{\"outlinewidth\":0,\"ticks\":\"\"}}],\"contour\":[{\"type\":\"contour\",\"colorbar\":{\"outlinewidth\":0,\"ticks\":\"\"},\"colorscale\":[[0.0,\"#0d0887\"],[0.1111111111111111,\"#46039f\"],[0.2222222222222222,\"#7201a8\"],[0.3333333333333333,\"#9c179e\"],[0.4444444444444444,\"#bd3786\"],[0.5555555555555556,\"#d8576b\"],[0.6666666666666666,\"#ed7953\"],[0.7777777777777778,\"#fb9f3a\"],[0.8888888888888888,\"#fdca26\"],[1.0,\"#f0f921\"]]}],\"surface\":[{\"type\":\"surface\",\"colorbar\":{\"outlinewidth\":0,\"ticks\":\"\"},\"colorscale\":[[0.0,\"#0d0887\"],[0.1111111111111111,\"#46039f\"],[0.2222222222222222,\"#7201a8\"],[0.3333333333333333,\"#9c179e\"],[0.4444444444444444,\"#bd3786\"],[0.5555555555555556,\"#d8576b\"],[0.6666666666666666,\"#ed7953\"],[0.7777777777777778,\"#fb9f3a\"],[0.8888888888888888,\"#fdca26\"],[1.0,\"#f0f921\"]]}],\"mesh3d\":[{\"type\":\"mesh3d\",\"colorbar\":{\"outlinewidth\":0,\"ticks\":\"\"}}],\"scatter\":[{\"fillpattern\":{\"fillmode\":\"overlay\",\"size\":10,\"solidity\":0.2},\"type\":\"scatter\"}],\"parcoords\":[{\"type\":\"parcoords\",\"line\":{\"colorbar\":{\"outlinewidth\":0,\"ticks\":\"\"}}}],\"scatterpolargl\":[{\"type\":\"scatterpolargl\",\"marker\":{\"colorbar\":{\"outlinewidth\":0,\"ticks\":\"\"}}}],\"bar\":[{\"error_x\":{\"color\":\"#2a3f5f\"},\"error_y\":{\"color\":\"#2a3f5f\"},\"marker\":{\"line\":{\"color\":\"#E5ECF6\",\"width\":0.5},\"pattern\":{\"fillmode\":\"overlay\",\"size\":10,\"solidity\":0.2}},\"type\":\"bar\"}],\"scattergeo\":[{\"type\":\"scattergeo\",\"marker\":{\"colorbar\":{\"outlinewidth\":0,\"ticks\":\"\"}}}],\"scatterpolar\":[{\"type\":\"scatterpolar\",\"marker\":{\"colorbar\":{\"outlinewidth\":0,\"ticks\":\"\"}}}],\"histogram\":[{\"marker\":{\"pattern\":{\"fillmode\":\"overlay\",\"size\":10,\"solidity\":0.2}},\"type\":\"histogram\"}],\"scattergl\":[{\"type\":\"scattergl\",\"marker\":{\"colorbar\":{\"outlinewidth\":0,\"ticks\":\"\"}}}],\"scatter3d\":[{\"type\":\"scatter3d\",\"line\":{\"colorbar\":{\"outlinewidth\":0,\"ticks\":\"\"}},\"marker\":{\"colorbar\":{\"outlinewidth\":0,\"ticks\":\"\"}}}],\"scattermapbox\":[{\"type\":\"scattermapbox\",\"marker\":{\"colorbar\":{\"outlinewidth\":0,\"ticks\":\"\"}}}],\"scatterternary\":[{\"type\":\"scatterternary\",\"marker\":{\"colorbar\":{\"outlinewidth\":0,\"ticks\":\"\"}}}],\"scattercarpet\":[{\"type\":\"scattercarpet\",\"marker\":{\"colorbar\":{\"outlinewidth\":0,\"ticks\":\"\"}}}],\"carpet\":[{\"aaxis\":{\"endlinecolor\":\"#2a3f5f\",\"gridcolor\":\"white\",\"linecolor\":\"white\",\"minorgridcolor\":\"white\",\"startlinecolor\":\"#2a3f5f\"},\"baxis\":{\"endlinecolor\":\"#2a3f5f\",\"gridcolor\":\"white\",\"linecolor\":\"white\",\"minorgridcolor\":\"white\",\"startlinecolor\":\"#2a3f5f\"},\"type\":\"carpet\"}],\"table\":[{\"cells\":{\"fill\":{\"color\":\"#EBF0F8\"},\"line\":{\"color\":\"white\"}},\"header\":{\"fill\":{\"color\":\"#C8D4E3\"},\"line\":{\"color\":\"white\"}},\"type\":\"table\"}],\"barpolar\":[{\"marker\":{\"line\":{\"color\":\"#E5ECF6\",\"width\":0.5},\"pattern\":{\"fillmode\":\"overlay\",\"size\":10,\"solidity\":0.2}},\"type\":\"barpolar\"}],\"pie\":[{\"automargin\":true,\"type\":\"pie\"}]},\"layout\":{\"autotypenumbers\":\"strict\",\"colorway\":[\"#636efa\",\"#EF553B\",\"#00cc96\",\"#ab63fa\",\"#FFA15A\",\"#19d3f3\",\"#FF6692\",\"#B6E880\",\"#FF97FF\",\"#FECB52\"],\"font\":{\"color\":\"#2a3f5f\"},\"hovermode\":\"closest\",\"hoverlabel\":{\"align\":\"left\"},\"paper_bgcolor\":\"white\",\"plot_bgcolor\":\"#E5ECF6\",\"polar\":{\"bgcolor\":\"#E5ECF6\",\"angularaxis\":{\"gridcolor\":\"white\",\"linecolor\":\"white\",\"ticks\":\"\"},\"radialaxis\":{\"gridcolor\":\"white\",\"linecolor\":\"white\",\"ticks\":\"\"}},\"ternary\":{\"bgcolor\":\"#E5ECF6\",\"aaxis\":{\"gridcolor\":\"white\",\"linecolor\":\"white\",\"ticks\":\"\"},\"baxis\":{\"gridcolor\":\"white\",\"linecolor\":\"white\",\"ticks\":\"\"},\"caxis\":{\"gridcolor\":\"white\",\"linecolor\":\"white\",\"ticks\":\"\"}},\"coloraxis\":{\"colorbar\":{\"outlinewidth\":0,\"ticks\":\"\"}},\"colorscale\":{\"sequential\":[[0.0,\"#0d0887\"],[0.1111111111111111,\"#46039f\"],[0.2222222222222222,\"#7201a8\"],[0.3333333333333333,\"#9c179e\"],[0.4444444444444444,\"#bd3786\"],[0.5555555555555556,\"#d8576b\"],[0.6666666666666666,\"#ed7953\"],[0.7777777777777778,\"#fb9f3a\"],[0.8888888888888888,\"#fdca26\"],[1.0,\"#f0f921\"]],\"sequentialminus\":[[0.0,\"#0d0887\"],[0.1111111111111111,\"#46039f\"],[0.2222222222222222,\"#7201a8\"],[0.3333333333333333,\"#9c179e\"],[0.4444444444444444,\"#bd3786\"],[0.5555555555555556,\"#d8576b\"],[0.6666666666666666,\"#ed7953\"],[0.7777777777777778,\"#fb9f3a\"],[0.8888888888888888,\"#fdca26\"],[1.0,\"#f0f921\"]],\"diverging\":[[0,\"#8e0152\"],[0.1,\"#c51b7d\"],[0.2,\"#de77ae\"],[0.3,\"#f1b6da\"],[0.4,\"#fde0ef\"],[0.5,\"#f7f7f7\"],[0.6,\"#e6f5d0\"],[0.7,\"#b8e186\"],[0.8,\"#7fbc41\"],[0.9,\"#4d9221\"],[1,\"#276419\"]]},\"xaxis\":{\"gridcolor\":\"white\",\"linecolor\":\"white\",\"ticks\":\"\",\"title\":{\"standoff\":15},\"zerolinecolor\":\"white\",\"automargin\":true,\"zerolinewidth\":2},\"yaxis\":{\"gridcolor\":\"white\",\"linecolor\":\"white\",\"ticks\":\"\",\"title\":{\"standoff\":15},\"zerolinecolor\":\"white\",\"automargin\":true,\"zerolinewidth\":2},\"scene\":{\"xaxis\":{\"backgroundcolor\":\"#E5ECF6\",\"gridcolor\":\"white\",\"linecolor\":\"white\",\"showbackground\":true,\"ticks\":\"\",\"zerolinecolor\":\"white\",\"gridwidth\":2},\"yaxis\":{\"backgroundcolor\":\"#E5ECF6\",\"gridcolor\":\"white\",\"linecolor\":\"white\",\"showbackground\":true,\"ticks\":\"\",\"zerolinecolor\":\"white\",\"gridwidth\":2},\"zaxis\":{\"backgroundcolor\":\"#E5ECF6\",\"gridcolor\":\"white\",\"linecolor\":\"white\",\"showbackground\":true,\"ticks\":\"\",\"zerolinecolor\":\"white\",\"gridwidth\":2}},\"shapedefaults\":{\"line\":{\"color\":\"#2a3f5f\"}},\"annotationdefaults\":{\"arrowcolor\":\"#2a3f5f\",\"arrowhead\":0,\"arrowwidth\":1},\"geo\":{\"bgcolor\":\"white\",\"landcolor\":\"#E5ECF6\",\"subunitcolor\":\"white\",\"showland\":true,\"showlakes\":true,\"lakecolor\":\"white\"},\"title\":{\"x\":0.05},\"mapbox\":{\"style\":\"light\"}}},\"scene\":{\"domain\":{\"x\":[0.0,1.0],\"y\":[0.0,1.0]},\"xaxis\":{\"title\":{\"text\":\"component_1\"}},\"yaxis\":{\"title\":{\"text\":\"component_2\"}},\"zaxis\":{\"title\":{\"text\":\"component_3\"}}},\"coloraxis\":{\"colorbar\":{\"title\":{\"text\":\"cluster\"}},\"colorscale\":[[0.0,\"#0d0887\"],[0.1111111111111111,\"#46039f\"],[0.2222222222222222,\"#7201a8\"],[0.3333333333333333,\"#9c179e\"],[0.4444444444444444,\"#bd3786\"],[0.5555555555555556,\"#d8576b\"],[0.6666666666666666,\"#ed7953\"],[0.7777777777777778,\"#fb9f3a\"],[0.8888888888888888,\"#fdca26\"],[1.0,\"#f0f921\"]]},\"legend\":{\"tracegroupgap\":0},\"margin\":{\"t\":60}},                        {\"responsive\": true}                    ).then(function(){\n",
              "                            \n",
              "var gd = document.getElementById('12702c4a-a984-4c2e-b4e4-e261d4363cc1');\n",
              "var x = new MutationObserver(function (mutations, observer) {{\n",
              "        var display = window.getComputedStyle(gd).display;\n",
              "        if (!display || display === 'none') {{\n",
              "            console.log([gd, 'removed!']);\n",
              "            Plotly.purge(gd);\n",
              "            observer.disconnect();\n",
              "        }}\n",
              "}});\n",
              "\n",
              "// Listen for the removal of the full notebook cells\n",
              "var notebookContainer = gd.closest('#notebook-container');\n",
              "if (notebookContainer) {{\n",
              "    x.observe(notebookContainer, {childList: true});\n",
              "}}\n",
              "\n",
              "// Listen for the clearing of the current output cell\n",
              "var outputEl = gd.closest('.output');\n",
              "if (outputEl) {{\n",
              "    x.observe(outputEl, {childList: true});\n",
              "}}\n",
              "\n",
              "                        })                };                            </script>        </div>\n",
              "</body>\n",
              "</html>"
            ]
          },
          "metadata": {}
        }
      ],
      "source": [
        "kmeans = KMeans(n_clusters=4)\n",
        "kmeans.fit(selected_images)\n",
        "y_pred = kmeans.predict(selected_images)\n",
        "df_transformed['cluster'] = y_pred\n",
        "fig = px.scatter_3d(df_transformed, x='component_1', y='component_2', z='component_3', color='cluster')\n",
        "fig.show()"
      ]
    },
    {
      "cell_type": "markdown",
      "metadata": {
        "id": "8J5FN-HIOOqJ"
      },
      "source": [
        "Measure the quality of the clustering using \"silhoutte score\" **(P4-2: 5 points)**\n",
        "\n",
        "Note: You can use `sklearn` or other packages to calculate the score."
      ]
    },
    {
      "cell_type": "code",
      "execution_count": 38,
      "metadata": {
        "id": "1zdNLJ_9OYxO",
        "colab": {
          "base_uri": "https://localhost:8080/"
        },
        "outputId": "d79acbdb-337e-41f6-c376-3e8e3f94f404"
      },
      "outputs": [
        {
          "output_type": "stream",
          "name": "stdout",
          "text": [
            "Silhouette Score with predicted labels: 0.3759608975144656\n"
          ]
        }
      ],
      "source": [
        "from sklearn.metrics import silhouette_score\n",
        "print(f'Silhouette Score with predicted labels: {silhouette_score(selected_images, y_pred)}')"
      ]
    },
    {
      "cell_type": "markdown",
      "metadata": {
        "id": "znohK44UQ5s7"
      },
      "source": [
        "Compare the result of the clustering with the original labels. To be more precise, in this part, you should clearly answer the following questions with details:<br>\n",
        "\n",
        "- Does each cluster represent a true label?\n",
        "- What is your conclusion?\n",
        "\n",
        "**(P4-3: 10 points)**"
      ]
    },
    {
      "cell_type": "code",
      "execution_count": 36,
      "metadata": {
        "id": "DDfOcVckRboQ",
        "colab": {
          "base_uri": "https://localhost:8080/"
        },
        "outputId": "c0f32988-2440-45dd-ad88-21813b5a4d9c"
      },
      "outputs": [
        {
          "output_type": "stream",
          "name": "stdout",
          "text": [
            "Silhouette Score with original labels: 0.22307026883212527\n"
          ]
        }
      ],
      "source": [
        "print(f'Silhouette Score with original labels: {silhouette_score(selected_images, selected_labels)}')"
      ]
    },
    {
      "cell_type": "markdown",
      "source": [
        "As it can be seen the Silhouette Score of the original labels is not good as well. It means that each cluster does not necessarily represent a true label. What k-means does is clustering data points based on their feature similarity and their distance to a centroid without considering their true labels.  \n",
        "My conclusion is that if data is capable of being clustered by k-means, it eventually will converge to an acceptable clustering. But if the data has some greater complexity underlying that can't be captured by k-means, no matter how many iterations you run the algorithm, the quality of clustering won't get much better."
      ],
      "metadata": {
        "id": "7tIZvv_1JwVQ"
      }
    },
    {
      "cell_type": "markdown",
      "metadata": {
        "id": "l2rNsjun2MYm"
      },
      "source": [
        "# Sec 5: Neural Net (Optional with Bonus Points)"
      ]
    },
    {
      "cell_type": "markdown",
      "metadata": {
        "id": "kHrNE4gp2-AW"
      },
      "source": [
        "Reshape the images so that they become of shape `64x64` **(P5-1: 5 points)**"
      ]
    },
    {
      "cell_type": "code",
      "execution_count": 39,
      "metadata": {
        "id": "OaCDrh9g3Sbd"
      },
      "outputs": [],
      "source": [
        "x = x.reshape(-1, 64, 64)"
      ]
    },
    {
      "cell_type": "markdown",
      "metadata": {
        "id": "PC0kN0MPOcak"
      },
      "source": [
        "Use different types of augmentation techniques (such as Random Flipping, Random Rotation, etc.) to increase the size of the training dataset. **(P5-2: 10 points)**"
      ]
    },
    {
      "cell_type": "code",
      "execution_count": 43,
      "metadata": {
        "id": "QbUC-Y5mP4Xd"
      },
      "outputs": [],
      "source": [
        "from tensorflow.keras.preprocessing.image import ImageDataGenerator\n",
        "import numpy as np\n",
        "\n",
        "labels = np.array(df['label'].values)\n",
        "data_gen = ImageDataGenerator(\n",
        "    rotation_range=10,\n",
        "    width_shift_range=0.1,\n",
        "    height_shift_range=0.1,\n",
        "    horizontal_flip=True\n",
        ")\n",
        "\n",
        "extended_x = []\n",
        "extended_y = []\n",
        "for i in range(len(x)):\n",
        "    image = x[i]\n",
        "    # Add an additional dimension if the image is grayscale\n",
        "    if len(image.shape) < 3:\n",
        "        image = np.expand_dims(image, axis=-1)\n",
        "    label = labels[i]\n",
        "    extended_x.append(image)\n",
        "    extended_y.append(label)\n",
        "    for j in range(5):\n",
        "        new_image = data_gen.random_transform(image)\n",
        "        extended_x.append(new_image)\n",
        "        extended_y.append(label)\n",
        "extended_x = np.array(extended_x)\n",
        "extended_y = np.array(extended_y)"
      ]
    },
    {
      "cell_type": "markdown",
      "metadata": {
        "id": "uXVXHAIgOp_F"
      },
      "source": [
        "Using the augmented training set, train a neural network consisting of 2D convolutional layers. The exact architecture of the network is arbitrary. However, the last layer should have the \"softmax\" function as its activation. Also, using \"max pooling\" layers after convolutional ones is advised.\n",
        "\n",
        "Note: Don't get frustrated if your network does not appear to be a good one. Give it some time to be trained. For instance, you might need to train it for 100 epochs. Make sure to try that out before quitting!\n",
        "\n",
        "**(P5-3: 20 points)**"
      ]
    },
    {
      "cell_type": "code",
      "source": [
        "label_encoder = LabelEncoder()\n",
        "label_encoder.fit(extended_y)\n",
        "encoded_y = label_encoder.transform(extended_y)"
      ],
      "metadata": {
        "id": "bFRA5EFQTbBz"
      },
      "execution_count": 46,
      "outputs": []
    },
    {
      "cell_type": "code",
      "execution_count": 58,
      "metadata": {
        "id": "WgODL6JyPdY4",
        "colab": {
          "base_uri": "https://localhost:8080/"
        },
        "outputId": "4f24d80e-b7f4-47ef-f8ed-e7ac2266cfd5"
      },
      "outputs": [
        {
          "output_type": "stream",
          "name": "stdout",
          "text": [
            "Epoch 1/50\n",
            "60/60 [==============================] - 20s 280ms/step - loss: 3.6646 - accuracy: 0.0432 - val_loss: 3.6591 - val_accuracy: 0.0708\n",
            "Epoch 2/50\n",
            "60/60 [==============================] - 17s 278ms/step - loss: 3.6599 - accuracy: 0.0443 - val_loss: 3.6566 - val_accuracy: 0.0708\n",
            "Epoch 3/50\n",
            "60/60 [==============================] - 16s 276ms/step - loss: 3.6599 - accuracy: 0.0474 - val_loss: 3.6522 - val_accuracy: 0.0708\n",
            "Epoch 4/50\n",
            "60/60 [==============================] - 17s 277ms/step - loss: 3.6586 - accuracy: 0.0464 - val_loss: 3.6496 - val_accuracy: 0.0708\n",
            "Epoch 5/50\n",
            "60/60 [==============================] - 16s 274ms/step - loss: 3.6013 - accuracy: 0.0495 - val_loss: 3.4576 - val_accuracy: 0.0833\n",
            "Epoch 6/50\n",
            "60/60 [==============================] - 19s 320ms/step - loss: 3.3141 - accuracy: 0.0828 - val_loss: 3.0055 - val_accuracy: 0.2083\n",
            "Epoch 7/50\n",
            "60/60 [==============================] - 16s 269ms/step - loss: 2.8905 - accuracy: 0.1646 - val_loss: 2.4014 - val_accuracy: 0.2792\n",
            "Epoch 8/50\n",
            "60/60 [==============================] - 16s 274ms/step - loss: 2.4336 - accuracy: 0.2724 - val_loss: 1.8439 - val_accuracy: 0.4500\n",
            "Epoch 9/50\n",
            "60/60 [==============================] - 16s 274ms/step - loss: 2.1613 - accuracy: 0.3359 - val_loss: 1.5667 - val_accuracy: 0.5500\n",
            "Epoch 10/50\n",
            "60/60 [==============================] - 16s 273ms/step - loss: 1.8778 - accuracy: 0.4099 - val_loss: 1.3584 - val_accuracy: 0.6500\n",
            "Epoch 11/50\n",
            "60/60 [==============================] - 16s 273ms/step - loss: 1.6417 - accuracy: 0.4656 - val_loss: 1.1441 - val_accuracy: 0.6625\n",
            "Epoch 12/50\n",
            "60/60 [==============================] - 17s 277ms/step - loss: 1.4516 - accuracy: 0.5307 - val_loss: 0.9222 - val_accuracy: 0.7208\n",
            "Epoch 13/50\n",
            "60/60 [==============================] - 17s 281ms/step - loss: 1.2856 - accuracy: 0.5964 - val_loss: 0.7558 - val_accuracy: 0.7542\n",
            "Epoch 14/50\n",
            "60/60 [==============================] - 17s 288ms/step - loss: 1.2185 - accuracy: 0.5943 - val_loss: 0.6825 - val_accuracy: 0.7750\n",
            "Epoch 15/50\n",
            "60/60 [==============================] - 17s 277ms/step - loss: 1.0892 - accuracy: 0.6297 - val_loss: 0.7456 - val_accuracy: 0.7542\n",
            "Epoch 16/50\n",
            "60/60 [==============================] - 16s 275ms/step - loss: 1.0466 - accuracy: 0.6547 - val_loss: 0.6123 - val_accuracy: 0.8083\n",
            "Epoch 17/50\n",
            "60/60 [==============================] - 17s 276ms/step - loss: 0.9557 - accuracy: 0.6844 - val_loss: 0.6181 - val_accuracy: 0.8000\n",
            "Epoch 18/50\n",
            "60/60 [==============================] - 16s 275ms/step - loss: 0.9147 - accuracy: 0.7026 - val_loss: 0.5834 - val_accuracy: 0.8250\n",
            "Epoch 19/50\n",
            "60/60 [==============================] - 16s 276ms/step - loss: 0.8874 - accuracy: 0.7219 - val_loss: 0.4968 - val_accuracy: 0.8375\n",
            "Epoch 20/50\n",
            "60/60 [==============================] - 17s 279ms/step - loss: 0.7005 - accuracy: 0.7750 - val_loss: 0.3489 - val_accuracy: 0.9042\n",
            "Epoch 21/50\n",
            "60/60 [==============================] - 16s 275ms/step - loss: 0.7549 - accuracy: 0.7417 - val_loss: 0.4744 - val_accuracy: 0.8583\n",
            "Epoch 22/50\n",
            "60/60 [==============================] - 20s 328ms/step - loss: 0.7015 - accuracy: 0.7625 - val_loss: 0.3787 - val_accuracy: 0.9125\n",
            "Epoch 23/50\n",
            "60/60 [==============================] - 17s 278ms/step - loss: 0.6917 - accuracy: 0.7729 - val_loss: 0.3409 - val_accuracy: 0.9042\n",
            "Epoch 24/50\n",
            "60/60 [==============================] - 17s 279ms/step - loss: 0.6460 - accuracy: 0.7896 - val_loss: 0.3286 - val_accuracy: 0.9167\n",
            "Epoch 25/50\n",
            "60/60 [==============================] - 17s 277ms/step - loss: 0.6309 - accuracy: 0.7917 - val_loss: 0.2939 - val_accuracy: 0.9167\n",
            "Epoch 26/50\n",
            "60/60 [==============================] - 16s 272ms/step - loss: 0.5892 - accuracy: 0.8167 - val_loss: 0.3078 - val_accuracy: 0.9000\n",
            "Epoch 27/50\n",
            "60/60 [==============================] - 17s 273ms/step - loss: 0.5186 - accuracy: 0.8255 - val_loss: 0.3832 - val_accuracy: 0.8625\n",
            "Epoch 28/50\n",
            "60/60 [==============================] - 17s 280ms/step - loss: 0.5068 - accuracy: 0.8198 - val_loss: 0.2901 - val_accuracy: 0.9167\n",
            "Epoch 29/50\n",
            "60/60 [==============================] - 17s 278ms/step - loss: 0.4912 - accuracy: 0.8401 - val_loss: 0.2894 - val_accuracy: 0.9000\n",
            "Epoch 30/50\n",
            "60/60 [==============================] - 17s 285ms/step - loss: 0.5178 - accuracy: 0.8245 - val_loss: 0.2414 - val_accuracy: 0.9458\n",
            "Epoch 31/50\n",
            "60/60 [==============================] - 17s 279ms/step - loss: 0.4359 - accuracy: 0.8578 - val_loss: 0.2144 - val_accuracy: 0.9375\n",
            "Epoch 32/50\n",
            "60/60 [==============================] - 16s 272ms/step - loss: 0.4620 - accuracy: 0.8500 - val_loss: 0.2716 - val_accuracy: 0.9292\n",
            "Epoch 33/50\n",
            "60/60 [==============================] - 17s 283ms/step - loss: 0.4688 - accuracy: 0.8448 - val_loss: 0.2406 - val_accuracy: 0.9500\n",
            "Epoch 34/50\n",
            "60/60 [==============================] - 16s 276ms/step - loss: 0.4148 - accuracy: 0.8667 - val_loss: 0.2173 - val_accuracy: 0.9292\n",
            "Epoch 35/50\n",
            "60/60 [==============================] - 17s 277ms/step - loss: 0.3836 - accuracy: 0.8719 - val_loss: 0.2035 - val_accuracy: 0.9458\n",
            "Epoch 36/50\n",
            "60/60 [==============================] - 16s 275ms/step - loss: 0.4139 - accuracy: 0.8635 - val_loss: 0.2358 - val_accuracy: 0.9458\n",
            "Epoch 37/50\n",
            "60/60 [==============================] - 17s 288ms/step - loss: 0.3429 - accuracy: 0.8906 - val_loss: 0.1950 - val_accuracy: 0.9542\n",
            "Epoch 38/50\n",
            "60/60 [==============================] - 19s 326ms/step - loss: 0.3508 - accuracy: 0.8818 - val_loss: 0.1974 - val_accuracy: 0.9500\n",
            "Epoch 39/50\n",
            "60/60 [==============================] - 17s 287ms/step - loss: 0.3628 - accuracy: 0.8760 - val_loss: 0.2138 - val_accuracy: 0.9583\n",
            "Epoch 40/50\n",
            "60/60 [==============================] - 17s 277ms/step - loss: 0.3272 - accuracy: 0.8927 - val_loss: 0.1996 - val_accuracy: 0.9500\n",
            "Epoch 41/50\n",
            "60/60 [==============================] - 17s 277ms/step - loss: 0.3650 - accuracy: 0.8875 - val_loss: 0.1754 - val_accuracy: 0.9542\n",
            "Epoch 42/50\n",
            "60/60 [==============================] - 17s 276ms/step - loss: 0.3141 - accuracy: 0.8969 - val_loss: 0.1974 - val_accuracy: 0.9500\n",
            "Epoch 43/50\n",
            "60/60 [==============================] - 16s 274ms/step - loss: 0.3299 - accuracy: 0.8891 - val_loss: 0.2293 - val_accuracy: 0.9250\n",
            "Epoch 44/50\n",
            "60/60 [==============================] - 17s 278ms/step - loss: 0.3246 - accuracy: 0.9000 - val_loss: 0.2413 - val_accuracy: 0.9250\n",
            "Epoch 45/50\n",
            "60/60 [==============================] - 17s 279ms/step - loss: 0.3133 - accuracy: 0.8953 - val_loss: 0.1728 - val_accuracy: 0.9500\n",
            "Epoch 46/50\n",
            "60/60 [==============================] - 17s 277ms/step - loss: 0.2928 - accuracy: 0.9109 - val_loss: 0.1967 - val_accuracy: 0.9458\n",
            "Epoch 47/50\n",
            "60/60 [==============================] - 17s 277ms/step - loss: 0.3219 - accuracy: 0.9005 - val_loss: 0.1889 - val_accuracy: 0.9458\n",
            "Epoch 48/50\n",
            "60/60 [==============================] - 17s 277ms/step - loss: 0.2800 - accuracy: 0.9073 - val_loss: 0.2072 - val_accuracy: 0.9500\n",
            "Epoch 49/50\n",
            "60/60 [==============================] - 16s 273ms/step - loss: 0.2609 - accuracy: 0.9099 - val_loss: 0.1832 - val_accuracy: 0.9583\n",
            "Epoch 50/50\n",
            "60/60 [==============================] - 17s 279ms/step - loss: 0.2756 - accuracy: 0.9089 - val_loss: 0.2060 - val_accuracy: 0.9333\n"
          ]
        },
        {
          "output_type": "execute_result",
          "data": {
            "text/plain": [
              "<keras.callbacks.History at 0x7fce07d65510>"
            ]
          },
          "metadata": {},
          "execution_count": 58
        }
      ],
      "source": [
        "from sklearn.model_selection import train_test_split\n",
        "from tensorflow.keras.models import Sequential\n",
        "from tensorflow.keras.layers import Conv2D, MaxPooling2D, Flatten, Dense, Dropout\n",
        "train_x, test_x, train_y, test_y = train_test_split(extended_x, encoded_y, test_size=0.2, random_state=42)\n",
        "test_x, validation_x, test_y, validation_y = train_test_split(test_x, test_y, test_size=0.5, random_state=41)\n",
        "model = Sequential([\n",
        "    Conv2D(32, (3, 3), activation='relu', input_shape=(64, 64, 1)),\n",
        "    MaxPooling2D((2, 2)),\n",
        "    Conv2D(64, (3, 3), activation='relu'),\n",
        "    MaxPooling2D((2, 2)),\n",
        "    Conv2D(128, (3, 3), activation='relu'),\n",
        "    MaxPooling2D((2, 2)),\n",
        "    Flatten(),\n",
        "    Dense(256, activation='relu'),\n",
        "    Dropout(0.5),\n",
        "    Dense(128, activation='relu'),\n",
        "    Dropout(0.5),\n",
        "    Dense(39, activation='softmax')\n",
        "])\n",
        "model.compile(optimizer='adam', loss='sparse_categorical_crossentropy', metrics=['accuracy'])\n",
        "model.fit(train_x, train_y, epochs=50, validation_data=(validation_x, validation_y))\n"
      ]
    },
    {
      "cell_type": "markdown",
      "metadata": {
        "id": "PgZFoeHPPdqF"
      },
      "source": [
        "Measure the accuracy of the network on the validation and testing datasets **(P5-4: 5 points)**"
      ]
    },
    {
      "cell_type": "code",
      "execution_count": 59,
      "metadata": {
        "id": "7VSZe8RdPkLU",
        "colab": {
          "base_uri": "https://localhost:8080/"
        },
        "outputId": "a1c290f0-adfb-4bca-f9e7-c9559677b6a6"
      },
      "outputs": [
        {
          "output_type": "stream",
          "name": "stdout",
          "text": [
            "8/8 [==============================] - 1s 101ms/step - loss: 0.2060 - accuracy: 0.9333\n",
            "8/8 [==============================] - 1s 102ms/step - loss: 0.1726 - accuracy: 0.9583\n",
            "Validation accuracy: 0.9333333373069763\n",
            "Test accuracy: 0.9583333134651184\n"
          ]
        }
      ],
      "source": [
        "val_loss, val_acc = model.evaluate(validation_x, validation_y)\n",
        "test_loss, test_acc = model.evaluate(test_x, test_y)\n",
        "print(\"Validation accuracy:\", val_acc)\n",
        "print(\"Test accuracy:\", test_acc)"
      ]
    }
  ],
  "metadata": {
    "colab": {
      "provenance": []
    },
    "kernelspec": {
      "display_name": "Python 3",
      "name": "python3"
    },
    "language_info": {
      "codemirror_mode": {
        "name": "ipython",
        "version": 3
      },
      "file_extension": ".py",
      "mimetype": "text/x-python",
      "name": "python",
      "nbconvert_exporter": "python",
      "pygments_lexer": "ipython3",
      "version": "3.8.10"
    }
  },
  "nbformat": 4,
  "nbformat_minor": 0
}